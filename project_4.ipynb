{
 "cells": [
  {
   "cell_type": "markdown",
   "metadata": {},
   "source": [
    "# Paket Prabayar Manakah yang Lebih Baik?\n",
    "\n",
    "Anda bekerja sebagai seorang analis di perusahaan operator telekomunikasi bernama Megaline. Perusahaan tersebut menawarkan kliennya dua jenis paket prabayar, yaitu paket Surf dan paket Ultimate. Departemen periklanan ingin mengetahui paket prabayar mana yang menghasilkan lebih banyak pendapatan, sehingga mereka bisa membuat anggaran iklan yang sesuai.\n",
    "\n",
    "Anda akan melakukan analisis awal untuk paket-paket prabayar tersebut berdasarkan sampel klien yang berukuran relatif kecil. Anda memiliki 500 data klien Megaline, yang berisi informasi seperti: siapa mereka, dari mana asalnya, jenis paket apa yang mereka gunakan, serta jumlah panggilan dan pesan yang mereka kirim di tahun 2018. Tugas Anda adalah untuk menganalisis perilaku para pengguna, lalu menentukan paket prabayar manakah yang lebih menguntungkan."
   ]
  },
  {
   "cell_type": "markdown",
   "metadata": {},
   "source": [
    "## Daftar Isi\n",
    "\n",
    "* [Introduksi](#introduksi)\n",
    "* [Inisialisasi](#inisialisasi)\n",
    "* [Memuat Data](#memuat-data)\n",
    "* [Mempersiapkan Data](#mempersiapkan-data)\n",
    "    * [Paket Prabayar](#paket-prabayar)\n",
    "        * [Memperbaiki Data pada dataframe data_plan](#memperbaiki-data-pada-dataframe-data_plan)\n",
    "        * [Memperkaya Kualitas Data pada dataframe data_plan](#memperkaya-kualitas-data-pada-dataframe-data_plan)\n",
    "    * [Pengguna](#pengguna)\n",
    "        * [Memperbaiki Data pada dataframe data_user](#memperbaiki-data-pada-dataframe-data_user)\n",
    "        * [Memperkaya Kualitas Data pada dataframe data_user](#memperkaya-kualitas-data-pada-dataframe-data_user)\n",
    "    * [Panggilan](#panggilan)\n",
    "        * [Memperbaiki Data pada dataframe data_call](#memperbaiki-data-pada-dataframe-data_call)\n",
    "        * [Memperkaya Kualitas Data pada dataframe data_call](#memperkaya-kualitas-data-pada-dataframe-data_call)\n",
    "    * [Pesan/SMS](#pesansms)\n",
    "        * [Memperbaiki Data pada dataframe data_message](#memperbaiki-data-pada-dataframe-data_message)\n",
    "        * [Memperkaya Kualitas Data pada dataframe data_message](#memperkaya-kualitas-data-pada-dataframe-data_message)\n",
    "    * [Internet](#internet)\n",
    "        * [Memperbaiki Data pada dataframe data_internet](#memperbaiki-data-pada-dataframe-data_internet)\n",
    "        * [Memperkaya Kualitas Data pada dataframe data_internet](#memperkaya-kualitas-data-pada-dataframe-data_internet)\n",
    "* [Mempelajari Syarat dan Kondisi Terkait Paket Prabayar](#mempelajari-syarat-dan-kondisi-terkait-paket-prabayar)\n",
    "* [Mengagregasi Data per Pengguna](#mengagregasi-data-per-pengguna)\n",
    "* [Mempelajari Perilaku Pengguna](#mempelajari-perilaku-pengguna)\n",
    "    * [Pengguna terhadap Panggilan](#pengguna-terhadap-panggilan)\n",
    "    * [Pengguna terhadap Pesan/SMS](#pengguna-terhadap-pesansms)\n",
    "    * [Pengguna terhadap Internet](#pengguna-terhadap-internet)\n",
    "* [Pendapatan](#pendapatan)\n",
    "* [Menguji Hipotesis Statistik](#menguji-hipotesis-statistik)\n",
    "    * [Pendapatan rata-rata Pengguna Paket berbeda](#pendapatan-rata-rata-dari-pengguna-paket-prabayar-ultimate-dan-surf-berbeda)\n",
    "    * [Pendapatan rata-rata Pengguna di Wilayah NY-NJ berbeda](#pendapatan-rata-rata-dari-pengguna-di-wilayah-ny-nj-berbeda-dengan-pendapatan-pengguna-dari-wilayah-lain)\n",
    "* [Kesimpulan Umum](#kesimpulan-umum)\n"
   ]
  },
  {
   "cell_type": "markdown",
   "metadata": {},
   "source": [
    "## Introduksi"
   ]
  },
  {
   "cell_type": "markdown",
   "metadata": {},
   "source": [
    "Dalam dunia telekomunikasi yang semakin mendominasi keseharian kita, pertanyaan yang sering kali mengemuka adalah, \"Paket prabayar mana yang sebenarnya lebih menguntungkan?\" Di sini, aku akan menjawab pertanyaan tersebut dengan bantuan data. Sebagai seorang analis di Megaline, operator telekomunikasi terkemuka, tugasku adalah memberikan pandangan awal tentang paket-paket prabayar yang ditawarkan oleh perusahaan ini: Surf dan Ultimate. Departemen periklanan ingin tahu paket mana yang lebih menguntungkan, sehingga mereka bisa mengalokasikan anggaran iklan dengan lebih cerdas.\n",
    "\n",
    "Data yang kita miliki adalah informasi mengenai 500 klien Megaline. Data-data ini mencakup siapa mereka, dari mana asal mereka, paket apa yang mereka pilih, serta seberapa sering mereka menelepon dan mengirim pesan selama tahun 2018. Aku akan menjelajahi perilaku pengguna ini untuk mengidentifikasi paket yang paling menguntungkan bagi Megaline.\n",
    "\n",
    "Dalam proyek ini, aku akan mengeksplorasi data dengan pendekatan manusiawi dan menjelaskan langkah-langkahku dengan sederhana. Pertama-tama, aku akan memeriksa data dan memastikan semuanya dalam format yang tepat. Selanjutnya, aku akan menggali ke dalam data untuk menghitung perilaku pengguna, termasuk durasi panggilan, pesan teks, dan penggunaan data seluler. Setelah itu, aku akan melakukan perbandingan antara paket Surf dan Ultimate untuk menentukan yang mana yang lebih menguntungkan. Dengan kata lain, mari berangkat pada perjalanan ini untuk mencari jawaban yang dapat membantu Megaline dalam mengambil keputusan strategis."
   ]
  },
  {
   "cell_type": "markdown",
   "metadata": {},
   "source": [
    "## Inisialisasi"
   ]
  },
  {
   "cell_type": "markdown",
   "metadata": {},
   "source": [
    "Import Library yang akan digunakan"
   ]
  },
  {
   "cell_type": "code",
   "execution_count": 1,
   "metadata": {},
   "outputs": [],
   "source": [
    "import pandas as pd \n",
    "import numpy as np\n",
    "import seaborn as sns\n",
    "import matplotlib.pyplot as plt\n",
    "from scipy import stats as st"
   ]
  },
  {
   "cell_type": "markdown",
   "metadata": {},
   "source": [
    "## Memuat Data"
   ]
  },
  {
   "cell_type": "markdown",
   "metadata": {},
   "source": []
  },
  {
   "cell_type": "code",
   "execution_count": 2,
   "metadata": {},
   "outputs": [],
   "source": [
    "data_call =  pd.read_csv('megaline_calls.csv')\n",
    "data_internet = pd.read_csv('megaline_internet.csv')\n",
    "data_message = pd.read_csv('megaline_messages.csv')\n",
    "data_plan = pd.read_csv('megaline_plans.csv')\n",
    "data_user = pd.read_csv('megaline_users.csv')"
   ]
  },
  {
   "cell_type": "markdown",
   "metadata": {},
   "source": [
    "## Mempersiapkan Data"
   ]
  },
  {
   "cell_type": "markdown",
   "metadata": {},
   "source": [
    "Setelah semua data sudah di import, dapat dilihat bahwa terdapat 5 data yang akan dipakai di analisis. Oleh karena itu, data-data tersebut perlu di lihat dan di periksa terlebih dahulu sebelum di pakai di dalam analisis."
   ]
  },
  {
   "cell_type": "markdown",
   "metadata": {},
   "source": [
    "### Paket Prabayar"
   ]
  },
  {
   "cell_type": "code",
   "execution_count": 3,
   "metadata": {
    "collapsed": true
   },
   "outputs": [
    {
     "name": "stdout",
     "output_type": "stream",
     "text": [
      "<class 'pandas.core.frame.DataFrame'>\n",
      "RangeIndex: 2 entries, 0 to 1\n",
      "Data columns (total 8 columns):\n",
      " #   Column                 Non-Null Count  Dtype  \n",
      "---  ------                 --------------  -----  \n",
      " 0   messages_included      2 non-null      int64  \n",
      " 1   mb_per_month_included  2 non-null      int64  \n",
      " 2   minutes_included       2 non-null      int64  \n",
      " 3   usd_monthly_pay        2 non-null      int64  \n",
      " 4   usd_per_gb             2 non-null      int64  \n",
      " 5   usd_per_message        2 non-null      float64\n",
      " 6   usd_per_minute         2 non-null      float64\n",
      " 7   plan_name              2 non-null      object \n",
      "dtypes: float64(2), int64(5), object(1)\n",
      "memory usage: 256.0+ bytes\n"
     ]
    }
   ],
   "source": [
    "data_plan.info()"
   ]
  },
  {
   "cell_type": "code",
   "execution_count": 4,
   "metadata": {
    "collapsed": true
   },
   "outputs": [
    {
     "data": {
      "text/html": [
       "<div>\n",
       "<style scoped>\n",
       "    .dataframe tbody tr th:only-of-type {\n",
       "        vertical-align: middle;\n",
       "    }\n",
       "\n",
       "    .dataframe tbody tr th {\n",
       "        vertical-align: top;\n",
       "    }\n",
       "\n",
       "    .dataframe thead th {\n",
       "        text-align: right;\n",
       "    }\n",
       "</style>\n",
       "<table border=\"1\" class=\"dataframe\">\n",
       "  <thead>\n",
       "    <tr style=\"text-align: right;\">\n",
       "      <th></th>\n",
       "      <th>messages_included</th>\n",
       "      <th>mb_per_month_included</th>\n",
       "      <th>minutes_included</th>\n",
       "      <th>usd_monthly_pay</th>\n",
       "      <th>usd_per_gb</th>\n",
       "      <th>usd_per_message</th>\n",
       "      <th>usd_per_minute</th>\n",
       "      <th>plan_name</th>\n",
       "    </tr>\n",
       "  </thead>\n",
       "  <tbody>\n",
       "    <tr>\n",
       "      <th>0</th>\n",
       "      <td>50</td>\n",
       "      <td>15360</td>\n",
       "      <td>500</td>\n",
       "      <td>20</td>\n",
       "      <td>10</td>\n",
       "      <td>0.03</td>\n",
       "      <td>0.03</td>\n",
       "      <td>surf</td>\n",
       "    </tr>\n",
       "    <tr>\n",
       "      <th>1</th>\n",
       "      <td>1000</td>\n",
       "      <td>30720</td>\n",
       "      <td>3000</td>\n",
       "      <td>70</td>\n",
       "      <td>7</td>\n",
       "      <td>0.01</td>\n",
       "      <td>0.01</td>\n",
       "      <td>ultimate</td>\n",
       "    </tr>\n",
       "  </tbody>\n",
       "</table>\n",
       "</div>"
      ],
      "text/plain": [
       "   messages_included  mb_per_month_included  minutes_included  \\\n",
       "0                 50                  15360               500   \n",
       "1               1000                  30720              3000   \n",
       "\n",
       "   usd_monthly_pay  usd_per_gb  usd_per_message  usd_per_minute plan_name  \n",
       "0               20          10             0.03            0.03      surf  \n",
       "1               70           7             0.01            0.01  ultimate  "
      ]
     },
     "execution_count": 4,
     "metadata": {},
     "output_type": "execute_result"
    }
   ],
   "source": [
    "data_plan.sample(2)"
   ]
  },
  {
   "cell_type": "code",
   "execution_count": 5,
   "metadata": {
    "collapsed": true
   },
   "outputs": [
    {
     "data": {
      "text/plain": [
       "messages_included        0\n",
       "mb_per_month_included    0\n",
       "minutes_included         0\n",
       "usd_monthly_pay          0\n",
       "usd_per_gb               0\n",
       "usd_per_message          0\n",
       "usd_per_minute           0\n",
       "plan_name                0\n",
       "dtype: int64"
      ]
     },
     "execution_count": 5,
     "metadata": {},
     "output_type": "execute_result"
    }
   ],
   "source": [
    "data_plan.isnull().sum()"
   ]
  },
  {
   "cell_type": "markdown",
   "metadata": {},
   "source": [
    "Tabel \"Paket Prabayar\" (Data Plan) berisi informasi tentang dua jenis paket prabayar yang ditawarkan oleh Megaline, yaitu \"Surf\" dan \"Ultimate\". Setiap paket memiliki atribut, seperti jumlah pesan, megabyte data, menit panggilan yang termasuk, biaya bulanan, serta harga tambahan jika melebihi alokasi paket. Setelah melihat informasi ini, kita tidak menemukan masalah data yang hilang atau tipe data yang tidak sesuai. Dengan kata lain, data pada tabel ini terlihat dalam kondisi baik dan tidak memerlukan perbaikan lebih lanjut. Hal ini berarti kita dapat melanjutkan analisis tanpa kendala pada data ini."
   ]
  },
  {
   "cell_type": "markdown",
   "metadata": {},
   "source": [
    "### Memperbaiki Data pada dataframe `data_plan`"
   ]
  },
  {
   "cell_type": "markdown",
   "metadata": {},
   "source": [
    "Meskipun data sudah dalam kondisi baik, dapat dilihat bahwa pada kolom harga-harga diatas tidak semuanya dalam bentuk tipe `float`, melainkan dalam tipe `int`. Walaupun dengan nilai numerical yang sama, akan lebih baik kolom yang digunakan untuk menampung informasi harga menggunakan jenis data `float` untuk dapat memegang nilai pecahan atau koma."
   ]
  },
  {
   "cell_type": "code",
   "execution_count": 6,
   "metadata": {},
   "outputs": [],
   "source": [
    "data_plan['usd_monthly_pay'] = data_plan['usd_monthly_pay'].astype(float)\n",
    "data_plan['usd_per_gb'] = data_plan['usd_per_gb'].astype(float)"
   ]
  },
  {
   "cell_type": "code",
   "execution_count": 7,
   "metadata": {
    "collapsed": true
   },
   "outputs": [
    {
     "name": "stdout",
     "output_type": "stream",
     "text": [
      "<class 'pandas.core.frame.DataFrame'>\n",
      "RangeIndex: 2 entries, 0 to 1\n",
      "Data columns (total 8 columns):\n",
      " #   Column                 Non-Null Count  Dtype  \n",
      "---  ------                 --------------  -----  \n",
      " 0   messages_included      2 non-null      int64  \n",
      " 1   mb_per_month_included  2 non-null      int64  \n",
      " 2   minutes_included       2 non-null      int64  \n",
      " 3   usd_monthly_pay        2 non-null      float64\n",
      " 4   usd_per_gb             2 non-null      float64\n",
      " 5   usd_per_message        2 non-null      float64\n",
      " 6   usd_per_minute         2 non-null      float64\n",
      " 7   plan_name              2 non-null      object \n",
      "dtypes: float64(4), int64(3), object(1)\n",
      "memory usage: 256.0+ bytes\n"
     ]
    }
   ],
   "source": [
    "data_plan.info()"
   ]
  },
  {
   "cell_type": "markdown",
   "metadata": {},
   "source": [
    "\n",
    "### Memperkaya Kualitas Data pada dataframe `data_plan`"
   ]
  },
  {
   "cell_type": "code",
   "execution_count": 8,
   "metadata": {},
   "outputs": [],
   "source": [
    "data_plan['usd_per_call'] = data_plan['usd_monthly_pay'] / data_plan['minutes_included']"
   ]
  },
  {
   "cell_type": "code",
   "execution_count": 9,
   "metadata": {
    "collapsed": true
   },
   "outputs": [
    {
     "name": "stdout",
     "output_type": "stream",
     "text": [
      "<class 'pandas.core.frame.DataFrame'>\n",
      "RangeIndex: 2 entries, 0 to 1\n",
      "Data columns (total 9 columns):\n",
      " #   Column                 Non-Null Count  Dtype  \n",
      "---  ------                 --------------  -----  \n",
      " 0   messages_included      2 non-null      int64  \n",
      " 1   mb_per_month_included  2 non-null      int64  \n",
      " 2   minutes_included       2 non-null      int64  \n",
      " 3   usd_monthly_pay        2 non-null      float64\n",
      " 4   usd_per_gb             2 non-null      float64\n",
      " 5   usd_per_message        2 non-null      float64\n",
      " 6   usd_per_minute         2 non-null      float64\n",
      " 7   plan_name              2 non-null      object \n",
      " 8   usd_per_call           2 non-null      float64\n",
      "dtypes: float64(5), int64(3), object(1)\n",
      "memory usage: 272.0+ bytes\n"
     ]
    },
    {
     "data": {
      "text/html": [
       "<div>\n",
       "<style scoped>\n",
       "    .dataframe tbody tr th:only-of-type {\n",
       "        vertical-align: middle;\n",
       "    }\n",
       "\n",
       "    .dataframe tbody tr th {\n",
       "        vertical-align: top;\n",
       "    }\n",
       "\n",
       "    .dataframe thead th {\n",
       "        text-align: right;\n",
       "    }\n",
       "</style>\n",
       "<table border=\"1\" class=\"dataframe\">\n",
       "  <thead>\n",
       "    <tr style=\"text-align: right;\">\n",
       "      <th></th>\n",
       "      <th>messages_included</th>\n",
       "      <th>mb_per_month_included</th>\n",
       "      <th>minutes_included</th>\n",
       "      <th>usd_monthly_pay</th>\n",
       "      <th>usd_per_gb</th>\n",
       "      <th>usd_per_message</th>\n",
       "      <th>usd_per_minute</th>\n",
       "      <th>plan_name</th>\n",
       "      <th>usd_per_call</th>\n",
       "    </tr>\n",
       "  </thead>\n",
       "  <tbody>\n",
       "    <tr>\n",
       "      <th>1</th>\n",
       "      <td>1000</td>\n",
       "      <td>30720</td>\n",
       "      <td>3000</td>\n",
       "      <td>70.0</td>\n",
       "      <td>7.0</td>\n",
       "      <td>0.01</td>\n",
       "      <td>0.01</td>\n",
       "      <td>ultimate</td>\n",
       "      <td>0.023333</td>\n",
       "    </tr>\n",
       "    <tr>\n",
       "      <th>0</th>\n",
       "      <td>50</td>\n",
       "      <td>15360</td>\n",
       "      <td>500</td>\n",
       "      <td>20.0</td>\n",
       "      <td>10.0</td>\n",
       "      <td>0.03</td>\n",
       "      <td>0.03</td>\n",
       "      <td>surf</td>\n",
       "      <td>0.040000</td>\n",
       "    </tr>\n",
       "  </tbody>\n",
       "</table>\n",
       "</div>"
      ],
      "text/plain": [
       "   messages_included  mb_per_month_included  minutes_included  \\\n",
       "1               1000                  30720              3000   \n",
       "0                 50                  15360               500   \n",
       "\n",
       "   usd_monthly_pay  usd_per_gb  usd_per_message  usd_per_minute plan_name  \\\n",
       "1             70.0         7.0             0.01            0.01  ultimate   \n",
       "0             20.0        10.0             0.03            0.03      surf   \n",
       "\n",
       "   usd_per_call  \n",
       "1      0.023333  \n",
       "0      0.040000  "
      ]
     },
     "execution_count": 9,
     "metadata": {},
     "output_type": "execute_result"
    }
   ],
   "source": [
    "data_plan.info()\n",
    "data_plan.sample(2)"
   ]
  },
  {
   "cell_type": "markdown",
   "metadata": {},
   "source": [
    "Kolom `usd_per_call` dapat memegang biaya panggilan berdasarkan jumlah biaya bulanan dari paket dibagi dengan jumlah menit yang di dapat dari paket tersebut."
   ]
  },
  {
   "cell_type": "markdown",
   "metadata": {},
   "source": [
    "## Pengguna"
   ]
  },
  {
   "cell_type": "code",
   "execution_count": 10,
   "metadata": {
    "collapsed": true
   },
   "outputs": [
    {
     "name": "stdout",
     "output_type": "stream",
     "text": [
      "<class 'pandas.core.frame.DataFrame'>\n",
      "RangeIndex: 500 entries, 0 to 499\n",
      "Data columns (total 8 columns):\n",
      " #   Column      Non-Null Count  Dtype \n",
      "---  ------      --------------  ----- \n",
      " 0   user_id     500 non-null    int64 \n",
      " 1   first_name  500 non-null    object\n",
      " 2   last_name   500 non-null    object\n",
      " 3   age         500 non-null    int64 \n",
      " 4   city        500 non-null    object\n",
      " 5   reg_date    500 non-null    object\n",
      " 6   plan        500 non-null    object\n",
      " 7   churn_date  34 non-null     object\n",
      "dtypes: int64(2), object(6)\n",
      "memory usage: 31.4+ KB\n"
     ]
    }
   ],
   "source": [
    "data_user.info()"
   ]
  },
  {
   "cell_type": "code",
   "execution_count": 11,
   "metadata": {
    "collapsed": true
   },
   "outputs": [
    {
     "data": {
      "text/html": [
       "<div>\n",
       "<style scoped>\n",
       "    .dataframe tbody tr th:only-of-type {\n",
       "        vertical-align: middle;\n",
       "    }\n",
       "\n",
       "    .dataframe tbody tr th {\n",
       "        vertical-align: top;\n",
       "    }\n",
       "\n",
       "    .dataframe thead th {\n",
       "        text-align: right;\n",
       "    }\n",
       "</style>\n",
       "<table border=\"1\" class=\"dataframe\">\n",
       "  <thead>\n",
       "    <tr style=\"text-align: right;\">\n",
       "      <th></th>\n",
       "      <th>user_id</th>\n",
       "      <th>first_name</th>\n",
       "      <th>last_name</th>\n",
       "      <th>age</th>\n",
       "      <th>city</th>\n",
       "      <th>reg_date</th>\n",
       "      <th>plan</th>\n",
       "      <th>churn_date</th>\n",
       "    </tr>\n",
       "  </thead>\n",
       "  <tbody>\n",
       "    <tr>\n",
       "      <th>138</th>\n",
       "      <td>1138</td>\n",
       "      <td>Arlie</td>\n",
       "      <td>Higgins</td>\n",
       "      <td>66</td>\n",
       "      <td>Riverside-San Bernardino-Ontario, CA MSA</td>\n",
       "      <td>2018-02-06</td>\n",
       "      <td>surf</td>\n",
       "      <td>NaN</td>\n",
       "    </tr>\n",
       "    <tr>\n",
       "      <th>495</th>\n",
       "      <td>1495</td>\n",
       "      <td>Fidel</td>\n",
       "      <td>Sharpe</td>\n",
       "      <td>67</td>\n",
       "      <td>New York-Newark-Jersey City, NY-NJ-PA MSA</td>\n",
       "      <td>2018-09-04</td>\n",
       "      <td>surf</td>\n",
       "      <td>NaN</td>\n",
       "    </tr>\n",
       "    <tr>\n",
       "      <th>410</th>\n",
       "      <td>1410</td>\n",
       "      <td>Wendell</td>\n",
       "      <td>Lloyd</td>\n",
       "      <td>46</td>\n",
       "      <td>Los Angeles-Long Beach-Anaheim, CA MSA</td>\n",
       "      <td>2018-10-06</td>\n",
       "      <td>surf</td>\n",
       "      <td>NaN</td>\n",
       "    </tr>\n",
       "    <tr>\n",
       "      <th>86</th>\n",
       "      <td>1086</td>\n",
       "      <td>Adena</td>\n",
       "      <td>Macias</td>\n",
       "      <td>36</td>\n",
       "      <td>New York-Newark-Jersey City, NY-NJ-PA MSA</td>\n",
       "      <td>2018-01-13</td>\n",
       "      <td>ultimate</td>\n",
       "      <td>NaN</td>\n",
       "    </tr>\n",
       "    <tr>\n",
       "      <th>251</th>\n",
       "      <td>1251</td>\n",
       "      <td>Tifany</td>\n",
       "      <td>Mcgee</td>\n",
       "      <td>45</td>\n",
       "      <td>New York-Newark-Jersey City, NY-NJ-PA MSA</td>\n",
       "      <td>2018-01-01</td>\n",
       "      <td>surf</td>\n",
       "      <td>NaN</td>\n",
       "    </tr>\n",
       "  </tbody>\n",
       "</table>\n",
       "</div>"
      ],
      "text/plain": [
       "     user_id first_name last_name  age  \\\n",
       "138     1138      Arlie   Higgins   66   \n",
       "495     1495      Fidel    Sharpe   67   \n",
       "410     1410    Wendell     Lloyd   46   \n",
       "86      1086      Adena    Macias   36   \n",
       "251     1251     Tifany     Mcgee   45   \n",
       "\n",
       "                                          city    reg_date      plan  \\\n",
       "138   Riverside-San Bernardino-Ontario, CA MSA  2018-02-06      surf   \n",
       "495  New York-Newark-Jersey City, NY-NJ-PA MSA  2018-09-04      surf   \n",
       "410     Los Angeles-Long Beach-Anaheim, CA MSA  2018-10-06      surf   \n",
       "86   New York-Newark-Jersey City, NY-NJ-PA MSA  2018-01-13  ultimate   \n",
       "251  New York-Newark-Jersey City, NY-NJ-PA MSA  2018-01-01      surf   \n",
       "\n",
       "    churn_date  \n",
       "138        NaN  \n",
       "495        NaN  \n",
       "410        NaN  \n",
       "86         NaN  \n",
       "251        NaN  "
      ]
     },
     "execution_count": 11,
     "metadata": {},
     "output_type": "execute_result"
    }
   ],
   "source": [
    "data_user.sample(5)"
   ]
  },
  {
   "cell_type": "code",
   "execution_count": 12,
   "metadata": {
    "collapsed": true
   },
   "outputs": [
    {
     "data": {
      "text/plain": [
       "user_id         0\n",
       "first_name      0\n",
       "last_name       0\n",
       "age             0\n",
       "city            0\n",
       "reg_date        0\n",
       "plan            0\n",
       "churn_date    466\n",
       "dtype: int64"
      ]
     },
     "execution_count": 12,
     "metadata": {},
     "output_type": "execute_result"
    }
   ],
   "source": [
    "data_user.isnull().sum()"
   ]
  },
  {
   "cell_type": "markdown",
   "metadata": {},
   "source": [
    "Pada data frame user, dapat dilihat bahwa kolom `churn_date` memiliki banyak nilai null, ini menunjukan bahwa sebagian besar pengguna masih aktif. Data pada kolom ini menampilkan tanggal ketika pengguna berhenti menggunakan layanan. Value `NaN` pada kolom ini bisa di perbaiki, meskipun begitu, akan lebih baik nilai `NaN` tetap dibiarkan. \n",
    "Jenis data yang digunakan oleh data frame user juga memiliki beberapa kolom yang kurang sesuai, seperti kolom `reg_date` dan `churn_date` yang menggunakan jenis data `object`(String). 2 kolom tersebut dapat diganti menjadi tipe `datetime`.\n",
    "\n",
    "Lalu pada kolom City, akan lebih tepat jika kolom tersebut di transformasi menjadi beberapa bagian, menjadi `city_name` dan `state` berdasarkan tanda koma','nya. "
   ]
  },
  {
   "cell_type": "markdown",
   "metadata": {},
   "source": [
    " "
   ]
  },
  {
   "cell_type": "markdown",
   "metadata": {},
   "source": [
    "### Memperbaiki Data pada dataframe `data_user`"
   ]
  },
  {
   "cell_type": "markdown",
   "metadata": {},
   "source": [
    "Mengubah jenis data kolom `reg_date` dan `churn_date` menjadi datetime"
   ]
  },
  {
   "cell_type": "code",
   "execution_count": 13,
   "metadata": {},
   "outputs": [],
   "source": [
    "data_user['reg_date'] = pd.to_datetime(data_user['reg_date'])\n",
    "data_user['churn_date'] = pd.to_datetime(data_user['churn_date'])"
   ]
  },
  {
   "cell_type": "markdown",
   "metadata": {},
   "source": [
    "### Memperkaya Kualitas Data pada dataframe `data_user`"
   ]
  },
  {
   "cell_type": "markdown",
   "metadata": {},
   "source": [
    "Menambah kolom baru dari kolom `city`, menjadi `city_name` dan `state`"
   ]
  },
  {
   "cell_type": "code",
   "execution_count": 14,
   "metadata": {},
   "outputs": [],
   "source": [
    "data_user[['city_name', 'state']] = data_user['city'].str.split(', ', expand=True)"
   ]
  },
  {
   "cell_type": "markdown",
   "metadata": {},
   "source": [
    "Membagi kolom `reg_date` menjadi 3 bagian, year, month dan day"
   ]
  },
  {
   "cell_type": "code",
   "execution_count": 15,
   "metadata": {},
   "outputs": [],
   "source": [
    "data_user['reg_year'] = data_user['reg_date'].dt.year\n",
    "data_user['reg_month'] = data_user['reg_date'].dt.month\n",
    "data_user['reg_day'] = data_user['reg_date'].dt.day"
   ]
  },
  {
   "cell_type": "code",
   "execution_count": 16,
   "metadata": {
    "collapsed": true
   },
   "outputs": [
    {
     "name": "stdout",
     "output_type": "stream",
     "text": [
      "<class 'pandas.core.frame.DataFrame'>\n",
      "RangeIndex: 500 entries, 0 to 499\n",
      "Data columns (total 13 columns):\n",
      " #   Column      Non-Null Count  Dtype         \n",
      "---  ------      --------------  -----         \n",
      " 0   user_id     500 non-null    int64         \n",
      " 1   first_name  500 non-null    object        \n",
      " 2   last_name   500 non-null    object        \n",
      " 3   age         500 non-null    int64         \n",
      " 4   city        500 non-null    object        \n",
      " 5   reg_date    500 non-null    datetime64[ns]\n",
      " 6   plan        500 non-null    object        \n",
      " 7   churn_date  34 non-null     datetime64[ns]\n",
      " 8   city_name   500 non-null    object        \n",
      " 9   state       500 non-null    object        \n",
      " 10  reg_year    500 non-null    int64         \n",
      " 11  reg_month   500 non-null    int64         \n",
      " 12  reg_day     500 non-null    int64         \n",
      "dtypes: datetime64[ns](2), int64(5), object(6)\n",
      "memory usage: 50.9+ KB\n"
     ]
    },
    {
     "data": {
      "text/html": [
       "<div>\n",
       "<style scoped>\n",
       "    .dataframe tbody tr th:only-of-type {\n",
       "        vertical-align: middle;\n",
       "    }\n",
       "\n",
       "    .dataframe tbody tr th {\n",
       "        vertical-align: top;\n",
       "    }\n",
       "\n",
       "    .dataframe thead th {\n",
       "        text-align: right;\n",
       "    }\n",
       "</style>\n",
       "<table border=\"1\" class=\"dataframe\">\n",
       "  <thead>\n",
       "    <tr style=\"text-align: right;\">\n",
       "      <th></th>\n",
       "      <th>user_id</th>\n",
       "      <th>first_name</th>\n",
       "      <th>last_name</th>\n",
       "      <th>age</th>\n",
       "      <th>city</th>\n",
       "      <th>reg_date</th>\n",
       "      <th>plan</th>\n",
       "      <th>churn_date</th>\n",
       "      <th>city_name</th>\n",
       "      <th>state</th>\n",
       "      <th>reg_year</th>\n",
       "      <th>reg_month</th>\n",
       "      <th>reg_day</th>\n",
       "    </tr>\n",
       "  </thead>\n",
       "  <tbody>\n",
       "    <tr>\n",
       "      <th>201</th>\n",
       "      <td>1201</td>\n",
       "      <td>Jeanelle</td>\n",
       "      <td>Estrada</td>\n",
       "      <td>61</td>\n",
       "      <td>Bridgeport-Stamford-Norwalk, CT MSA</td>\n",
       "      <td>2018-06-04</td>\n",
       "      <td>surf</td>\n",
       "      <td>NaT</td>\n",
       "      <td>Bridgeport-Stamford-Norwalk</td>\n",
       "      <td>CT MSA</td>\n",
       "      <td>2018</td>\n",
       "      <td>6</td>\n",
       "      <td>4</td>\n",
       "    </tr>\n",
       "    <tr>\n",
       "      <th>47</th>\n",
       "      <td>1047</td>\n",
       "      <td>Yuk</td>\n",
       "      <td>French</td>\n",
       "      <td>22</td>\n",
       "      <td>Indianapolis-Carmel-Anderson, IN MSA</td>\n",
       "      <td>2018-06-16</td>\n",
       "      <td>ultimate</td>\n",
       "      <td>NaT</td>\n",
       "      <td>Indianapolis-Carmel-Anderson</td>\n",
       "      <td>IN MSA</td>\n",
       "      <td>2018</td>\n",
       "      <td>6</td>\n",
       "      <td>16</td>\n",
       "    </tr>\n",
       "    <tr>\n",
       "      <th>215</th>\n",
       "      <td>1215</td>\n",
       "      <td>Adelle</td>\n",
       "      <td>Knapp</td>\n",
       "      <td>70</td>\n",
       "      <td>New York-Newark-Jersey City, NY-NJ-PA MSA</td>\n",
       "      <td>2018-07-01</td>\n",
       "      <td>surf</td>\n",
       "      <td>NaT</td>\n",
       "      <td>New York-Newark-Jersey City</td>\n",
       "      <td>NY-NJ-PA MSA</td>\n",
       "      <td>2018</td>\n",
       "      <td>7</td>\n",
       "      <td>1</td>\n",
       "    </tr>\n",
       "    <tr>\n",
       "      <th>135</th>\n",
       "      <td>1135</td>\n",
       "      <td>Scotty</td>\n",
       "      <td>White</td>\n",
       "      <td>51</td>\n",
       "      <td>Miami-Fort Lauderdale-West Palm Beach, FL MSA</td>\n",
       "      <td>2018-12-23</td>\n",
       "      <td>ultimate</td>\n",
       "      <td>NaT</td>\n",
       "      <td>Miami-Fort Lauderdale-West Palm Beach</td>\n",
       "      <td>FL MSA</td>\n",
       "      <td>2018</td>\n",
       "      <td>12</td>\n",
       "      <td>23</td>\n",
       "    </tr>\n",
       "    <tr>\n",
       "      <th>57</th>\n",
       "      <td>1057</td>\n",
       "      <td>Theo</td>\n",
       "      <td>Sargent</td>\n",
       "      <td>18</td>\n",
       "      <td>Atlanta-Sandy Springs-Roswell, GA MSA</td>\n",
       "      <td>2018-08-07</td>\n",
       "      <td>ultimate</td>\n",
       "      <td>NaT</td>\n",
       "      <td>Atlanta-Sandy Springs-Roswell</td>\n",
       "      <td>GA MSA</td>\n",
       "      <td>2018</td>\n",
       "      <td>8</td>\n",
       "      <td>7</td>\n",
       "    </tr>\n",
       "  </tbody>\n",
       "</table>\n",
       "</div>"
      ],
      "text/plain": [
       "     user_id first_name last_name  age  \\\n",
       "201     1201   Jeanelle   Estrada   61   \n",
       "47      1047        Yuk    French   22   \n",
       "215     1215     Adelle     Knapp   70   \n",
       "135     1135     Scotty     White   51   \n",
       "57      1057       Theo   Sargent   18   \n",
       "\n",
       "                                              city   reg_date      plan  \\\n",
       "201            Bridgeport-Stamford-Norwalk, CT MSA 2018-06-04      surf   \n",
       "47            Indianapolis-Carmel-Anderson, IN MSA 2018-06-16  ultimate   \n",
       "215      New York-Newark-Jersey City, NY-NJ-PA MSA 2018-07-01      surf   \n",
       "135  Miami-Fort Lauderdale-West Palm Beach, FL MSA 2018-12-23  ultimate   \n",
       "57           Atlanta-Sandy Springs-Roswell, GA MSA 2018-08-07  ultimate   \n",
       "\n",
       "    churn_date                              city_name         state  reg_year  \\\n",
       "201        NaT            Bridgeport-Stamford-Norwalk        CT MSA      2018   \n",
       "47         NaT           Indianapolis-Carmel-Anderson        IN MSA      2018   \n",
       "215        NaT            New York-Newark-Jersey City  NY-NJ-PA MSA      2018   \n",
       "135        NaT  Miami-Fort Lauderdale-West Palm Beach        FL MSA      2018   \n",
       "57         NaT          Atlanta-Sandy Springs-Roswell        GA MSA      2018   \n",
       "\n",
       "     reg_month  reg_day  \n",
       "201          6        4  \n",
       "47           6       16  \n",
       "215          7        1  \n",
       "135         12       23  \n",
       "57           8        7  "
      ]
     },
     "execution_count": 16,
     "metadata": {},
     "output_type": "execute_result"
    }
   ],
   "source": [
    "data_user.info()\n",
    "data_user.sample(5)"
   ]
  },
  {
   "cell_type": "markdown",
   "metadata": {},
   "source": [
    "## Panggilan"
   ]
  },
  {
   "cell_type": "code",
   "execution_count": 17,
   "metadata": {
    "collapsed": true
   },
   "outputs": [
    {
     "name": "stdout",
     "output_type": "stream",
     "text": [
      "<class 'pandas.core.frame.DataFrame'>\n",
      "RangeIndex: 137735 entries, 0 to 137734\n",
      "Data columns (total 4 columns):\n",
      " #   Column     Non-Null Count   Dtype  \n",
      "---  ------     --------------   -----  \n",
      " 0   id         137735 non-null  object \n",
      " 1   user_id    137735 non-null  int64  \n",
      " 2   call_date  137735 non-null  object \n",
      " 3   duration   137735 non-null  float64\n",
      "dtypes: float64(1), int64(1), object(2)\n",
      "memory usage: 4.2+ MB\n"
     ]
    }
   ],
   "source": [
    "data_call.info()"
   ]
  },
  {
   "cell_type": "code",
   "execution_count": 18,
   "metadata": {
    "collapsed": true
   },
   "outputs": [
    {
     "data": {
      "text/html": [
       "<div>\n",
       "<style scoped>\n",
       "    .dataframe tbody tr th:only-of-type {\n",
       "        vertical-align: middle;\n",
       "    }\n",
       "\n",
       "    .dataframe tbody tr th {\n",
       "        vertical-align: top;\n",
       "    }\n",
       "\n",
       "    .dataframe thead th {\n",
       "        text-align: right;\n",
       "    }\n",
       "</style>\n",
       "<table border=\"1\" class=\"dataframe\">\n",
       "  <thead>\n",
       "    <tr style=\"text-align: right;\">\n",
       "      <th></th>\n",
       "      <th>id</th>\n",
       "      <th>user_id</th>\n",
       "      <th>call_date</th>\n",
       "      <th>duration</th>\n",
       "    </tr>\n",
       "  </thead>\n",
       "  <tbody>\n",
       "    <tr>\n",
       "      <th>77962</th>\n",
       "      <td>1279_90</td>\n",
       "      <td>1279</td>\n",
       "      <td>2018-11-20</td>\n",
       "      <td>22.29</td>\n",
       "    </tr>\n",
       "    <tr>\n",
       "      <th>785</th>\n",
       "      <td>1004_293</td>\n",
       "      <td>1004</td>\n",
       "      <td>2018-11-05</td>\n",
       "      <td>13.14</td>\n",
       "    </tr>\n",
       "    <tr>\n",
       "      <th>80186</th>\n",
       "      <td>1288_121</td>\n",
       "      <td>1288</td>\n",
       "      <td>2018-11-06</td>\n",
       "      <td>11.22</td>\n",
       "    </tr>\n",
       "    <tr>\n",
       "      <th>56795</th>\n",
       "      <td>1203_186</td>\n",
       "      <td>1203</td>\n",
       "      <td>2018-07-08</td>\n",
       "      <td>7.72</td>\n",
       "    </tr>\n",
       "    <tr>\n",
       "      <th>23411</th>\n",
       "      <td>1085_203</td>\n",
       "      <td>1085</td>\n",
       "      <td>2018-10-12</td>\n",
       "      <td>16.80</td>\n",
       "    </tr>\n",
       "  </tbody>\n",
       "</table>\n",
       "</div>"
      ],
      "text/plain": [
       "             id  user_id   call_date  duration\n",
       "77962   1279_90     1279  2018-11-20     22.29\n",
       "785    1004_293     1004  2018-11-05     13.14\n",
       "80186  1288_121     1288  2018-11-06     11.22\n",
       "56795  1203_186     1203  2018-07-08      7.72\n",
       "23411  1085_203     1085  2018-10-12     16.80"
      ]
     },
     "execution_count": 18,
     "metadata": {},
     "output_type": "execute_result"
    }
   ],
   "source": [
    "data_call.sample(5)"
   ]
  },
  {
   "cell_type": "code",
   "execution_count": 19,
   "metadata": {
    "collapsed": true
   },
   "outputs": [
    {
     "data": {
      "text/plain": [
       "id           0\n",
       "user_id      0\n",
       "call_date    0\n",
       "duration     0\n",
       "dtype: int64"
      ]
     },
     "execution_count": 19,
     "metadata": {},
     "output_type": "execute_result"
    }
   ],
   "source": [
    "data_call.isnull().sum()"
   ]
  },
  {
   "cell_type": "markdown",
   "metadata": {},
   "source": [
    "Pada data frame data_call, dapat dilihat bahwa terdapat 4 kolom yang berisi ID panggilan, ID pengguna, tanggal panggilan, dan durasi panggilan. Meskipun data sudah terlihat rapih. Terdapat juga beberapa beberapa jenis data type yang kurang sesuai dengan kolom nya, seperti kolom `call_date` menggunakan data type `object` (String). Kolom tersebut lebih cocok menggunakan jenis data type `datetime`"
   ]
  },
  {
   "cell_type": "markdown",
   "metadata": {},
   "source": [
    " "
   ]
  },
  {
   "cell_type": "markdown",
   "metadata": {},
   "source": [
    "### Memperbaiki Data pada dataframe `data_call`"
   ]
  },
  {
   "cell_type": "markdown",
   "metadata": {},
   "source": [
    "Mengubah jenis data kolom `call_date` menjadi datetime"
   ]
  },
  {
   "cell_type": "code",
   "execution_count": 20,
   "metadata": {},
   "outputs": [],
   "source": [
    "data_call['call_date'] = pd.to_datetime(data_call['call_date'])"
   ]
  },
  {
   "cell_type": "code",
   "execution_count": 21,
   "metadata": {
    "collapsed": true
   },
   "outputs": [
    {
     "name": "stdout",
     "output_type": "stream",
     "text": [
      "<class 'pandas.core.frame.DataFrame'>\n",
      "RangeIndex: 137735 entries, 0 to 137734\n",
      "Data columns (total 4 columns):\n",
      " #   Column     Non-Null Count   Dtype         \n",
      "---  ------     --------------   -----         \n",
      " 0   id         137735 non-null  object        \n",
      " 1   user_id    137735 non-null  int64         \n",
      " 2   call_date  137735 non-null  datetime64[ns]\n",
      " 3   duration   137735 non-null  float64       \n",
      "dtypes: datetime64[ns](1), float64(1), int64(1), object(1)\n",
      "memory usage: 4.2+ MB\n"
     ]
    }
   ],
   "source": [
    "data_call.info()"
   ]
  },
  {
   "cell_type": "markdown",
   "metadata": {},
   "source": [
    "### Memperkaya Kualitas Data pada dataframe `data_call`"
   ]
  },
  {
   "cell_type": "markdown",
   "metadata": {},
   "source": [
    "Membagi kolom `call_date` menjadi 3 bagian, year, month, dan day"
   ]
  },
  {
   "cell_type": "code",
   "execution_count": 22,
   "metadata": {},
   "outputs": [],
   "source": [
    "data_call['call_year'] = data_call['call_date'].dt.year\n",
    "data_call['call_month'] = data_call['call_date'].dt.month\n",
    "data_call['call_day'] = data_call['call_date'].dt.day"
   ]
  },
  {
   "cell_type": "code",
   "execution_count": 23,
   "metadata": {
    "collapsed": true
   },
   "outputs": [
    {
     "name": "stdout",
     "output_type": "stream",
     "text": [
      "<class 'pandas.core.frame.DataFrame'>\n",
      "RangeIndex: 137735 entries, 0 to 137734\n",
      "Data columns (total 7 columns):\n",
      " #   Column      Non-Null Count   Dtype         \n",
      "---  ------      --------------   -----         \n",
      " 0   id          137735 non-null  object        \n",
      " 1   user_id     137735 non-null  int64         \n",
      " 2   call_date   137735 non-null  datetime64[ns]\n",
      " 3   duration    137735 non-null  float64       \n",
      " 4   call_year   137735 non-null  int64         \n",
      " 5   call_month  137735 non-null  int64         \n",
      " 6   call_day    137735 non-null  int64         \n",
      "dtypes: datetime64[ns](1), float64(1), int64(4), object(1)\n",
      "memory usage: 7.4+ MB\n"
     ]
    },
    {
     "data": {
      "text/html": [
       "<div>\n",
       "<style scoped>\n",
       "    .dataframe tbody tr th:only-of-type {\n",
       "        vertical-align: middle;\n",
       "    }\n",
       "\n",
       "    .dataframe tbody tr th {\n",
       "        vertical-align: top;\n",
       "    }\n",
       "\n",
       "    .dataframe thead th {\n",
       "        text-align: right;\n",
       "    }\n",
       "</style>\n",
       "<table border=\"1\" class=\"dataframe\">\n",
       "  <thead>\n",
       "    <tr style=\"text-align: right;\">\n",
       "      <th></th>\n",
       "      <th>id</th>\n",
       "      <th>user_id</th>\n",
       "      <th>call_date</th>\n",
       "      <th>duration</th>\n",
       "      <th>call_year</th>\n",
       "      <th>call_month</th>\n",
       "      <th>call_day</th>\n",
       "    </tr>\n",
       "  </thead>\n",
       "  <tbody>\n",
       "    <tr>\n",
       "      <th>111931</th>\n",
       "      <td>1393_117</td>\n",
       "      <td>1393</td>\n",
       "      <td>2018-12-17</td>\n",
       "      <td>0.73</td>\n",
       "      <td>2018</td>\n",
       "      <td>12</td>\n",
       "      <td>17</td>\n",
       "    </tr>\n",
       "    <tr>\n",
       "      <th>111597</th>\n",
       "      <td>1392_7</td>\n",
       "      <td>1392</td>\n",
       "      <td>2018-11-11</td>\n",
       "      <td>3.41</td>\n",
       "      <td>2018</td>\n",
       "      <td>11</td>\n",
       "      <td>11</td>\n",
       "    </tr>\n",
       "    <tr>\n",
       "      <th>130293</th>\n",
       "      <td>1468_12</td>\n",
       "      <td>1468</td>\n",
       "      <td>2018-11-21</td>\n",
       "      <td>0.00</td>\n",
       "      <td>2018</td>\n",
       "      <td>11</td>\n",
       "      <td>21</td>\n",
       "    </tr>\n",
       "    <tr>\n",
       "      <th>92632</th>\n",
       "      <td>1334_0</td>\n",
       "      <td>1334</td>\n",
       "      <td>2018-04-02</td>\n",
       "      <td>5.76</td>\n",
       "      <td>2018</td>\n",
       "      <td>4</td>\n",
       "      <td>2</td>\n",
       "    </tr>\n",
       "    <tr>\n",
       "      <th>62381</th>\n",
       "      <td>1223_567</td>\n",
       "      <td>1223</td>\n",
       "      <td>2018-07-16</td>\n",
       "      <td>5.59</td>\n",
       "      <td>2018</td>\n",
       "      <td>7</td>\n",
       "      <td>16</td>\n",
       "    </tr>\n",
       "  </tbody>\n",
       "</table>\n",
       "</div>"
      ],
      "text/plain": [
       "              id  user_id  call_date  duration  call_year  call_month  \\\n",
       "111931  1393_117     1393 2018-12-17      0.73       2018          12   \n",
       "111597    1392_7     1392 2018-11-11      3.41       2018          11   \n",
       "130293   1468_12     1468 2018-11-21      0.00       2018          11   \n",
       "92632     1334_0     1334 2018-04-02      5.76       2018           4   \n",
       "62381   1223_567     1223 2018-07-16      5.59       2018           7   \n",
       "\n",
       "        call_day  \n",
       "111931        17  \n",
       "111597        11  \n",
       "130293        21  \n",
       "92632          2  \n",
       "62381         16  "
      ]
     },
     "execution_count": 23,
     "metadata": {},
     "output_type": "execute_result"
    }
   ],
   "source": [
    "data_call.info()\n",
    "data_call.sample(5)"
   ]
  },
  {
   "cell_type": "markdown",
   "metadata": {},
   "source": [
    "## Pesan/SMS"
   ]
  },
  {
   "cell_type": "code",
   "execution_count": 24,
   "metadata": {
    "collapsed": true
   },
   "outputs": [
    {
     "name": "stdout",
     "output_type": "stream",
     "text": [
      "<class 'pandas.core.frame.DataFrame'>\n",
      "RangeIndex: 76051 entries, 0 to 76050\n",
      "Data columns (total 3 columns):\n",
      " #   Column        Non-Null Count  Dtype \n",
      "---  ------        --------------  ----- \n",
      " 0   id            76051 non-null  object\n",
      " 1   user_id       76051 non-null  int64 \n",
      " 2   message_date  76051 non-null  object\n",
      "dtypes: int64(1), object(2)\n",
      "memory usage: 1.7+ MB\n"
     ]
    }
   ],
   "source": [
    "data_message.info()"
   ]
  },
  {
   "cell_type": "code",
   "execution_count": 25,
   "metadata": {
    "collapsed": true
   },
   "outputs": [
    {
     "data": {
      "text/html": [
       "<div>\n",
       "<style scoped>\n",
       "    .dataframe tbody tr th:only-of-type {\n",
       "        vertical-align: middle;\n",
       "    }\n",
       "\n",
       "    .dataframe tbody tr th {\n",
       "        vertical-align: top;\n",
       "    }\n",
       "\n",
       "    .dataframe thead th {\n",
       "        text-align: right;\n",
       "    }\n",
       "</style>\n",
       "<table border=\"1\" class=\"dataframe\">\n",
       "  <thead>\n",
       "    <tr style=\"text-align: right;\">\n",
       "      <th></th>\n",
       "      <th>id</th>\n",
       "      <th>user_id</th>\n",
       "      <th>message_date</th>\n",
       "    </tr>\n",
       "  </thead>\n",
       "  <tbody>\n",
       "    <tr>\n",
       "      <th>30704</th>\n",
       "      <td>1193_403</td>\n",
       "      <td>1193</td>\n",
       "      <td>2018-07-19</td>\n",
       "    </tr>\n",
       "    <tr>\n",
       "      <th>60473</th>\n",
       "      <td>1381_586</td>\n",
       "      <td>1381</td>\n",
       "      <td>2018-11-06</td>\n",
       "    </tr>\n",
       "    <tr>\n",
       "      <th>64155</th>\n",
       "      <td>1408_280</td>\n",
       "      <td>1408</td>\n",
       "      <td>2018-12-07</td>\n",
       "    </tr>\n",
       "    <tr>\n",
       "      <th>52385</th>\n",
       "      <td>1336_362</td>\n",
       "      <td>1336</td>\n",
       "      <td>2018-10-13</td>\n",
       "    </tr>\n",
       "    <tr>\n",
       "      <th>36173</th>\n",
       "      <td>1240_54</td>\n",
       "      <td>1240</td>\n",
       "      <td>2018-09-10</td>\n",
       "    </tr>\n",
       "  </tbody>\n",
       "</table>\n",
       "</div>"
      ],
      "text/plain": [
       "             id  user_id message_date\n",
       "30704  1193_403     1193   2018-07-19\n",
       "60473  1381_586     1381   2018-11-06\n",
       "64155  1408_280     1408   2018-12-07\n",
       "52385  1336_362     1336   2018-10-13\n",
       "36173   1240_54     1240   2018-09-10"
      ]
     },
     "execution_count": 25,
     "metadata": {},
     "output_type": "execute_result"
    }
   ],
   "source": [
    "data_message.sample(5)"
   ]
  },
  {
   "cell_type": "code",
   "execution_count": 26,
   "metadata": {
    "collapsed": true
   },
   "outputs": [
    {
     "data": {
      "text/plain": [
       "id              0\n",
       "user_id         0\n",
       "message_date    0\n",
       "dtype: int64"
      ]
     },
     "execution_count": 26,
     "metadata": {},
     "output_type": "execute_result"
    }
   ],
   "source": [
    "data_message.isnull().sum()"
   ]
  },
  {
   "cell_type": "markdown",
   "metadata": {},
   "source": [
    "Pada data frame data_message, terdapat data yang sudah dapat dikatakan rapi, walaupun dapat dilihat ada kolom dengan data type yang kurang sesuai, seperti kolom `message_date` yang menggunakan data type `object` (string). "
   ]
  },
  {
   "cell_type": "markdown",
   "metadata": {},
   "source": [
    " "
   ]
  },
  {
   "cell_type": "markdown",
   "metadata": {},
   "source": [
    "### Memperbaiki Data pada dataframe `data_message`"
   ]
  },
  {
   "cell_type": "markdown",
   "metadata": {},
   "source": [
    "Mengubah jenis data kolom `message_date` menjadi datetime"
   ]
  },
  {
   "cell_type": "code",
   "execution_count": 27,
   "metadata": {},
   "outputs": [],
   "source": [
    "data_message['message_date'] = pd.to_datetime(data_message['message_date'])"
   ]
  },
  {
   "cell_type": "code",
   "execution_count": 28,
   "metadata": {
    "collapsed": true
   },
   "outputs": [
    {
     "name": "stdout",
     "output_type": "stream",
     "text": [
      "<class 'pandas.core.frame.DataFrame'>\n",
      "RangeIndex: 76051 entries, 0 to 76050\n",
      "Data columns (total 3 columns):\n",
      " #   Column        Non-Null Count  Dtype         \n",
      "---  ------        --------------  -----         \n",
      " 0   id            76051 non-null  object        \n",
      " 1   user_id       76051 non-null  int64         \n",
      " 2   message_date  76051 non-null  datetime64[ns]\n",
      "dtypes: datetime64[ns](1), int64(1), object(1)\n",
      "memory usage: 1.7+ MB\n"
     ]
    }
   ],
   "source": [
    "data_message.info()"
   ]
  },
  {
   "cell_type": "markdown",
   "metadata": {},
   "source": [
    "### Memperkaya Kualitas Data pada dataframe `data_message`"
   ]
  },
  {
   "cell_type": "markdown",
   "metadata": {},
   "source": [
    "Membagi kolom `message_date` menjadi 3 bagian, year, month, dan day"
   ]
  },
  {
   "cell_type": "code",
   "execution_count": 29,
   "metadata": {},
   "outputs": [],
   "source": [
    "data_message['message_year'] = data_message['message_date'].dt.year\n",
    "data_message['message_month'] = data_message['message_date'].dt.month\n",
    "data_message['message_day'] = data_message['message_date'].dt.day"
   ]
  },
  {
   "cell_type": "code",
   "execution_count": 30,
   "metadata": {
    "collapsed": true
   },
   "outputs": [
    {
     "name": "stdout",
     "output_type": "stream",
     "text": [
      "<class 'pandas.core.frame.DataFrame'>\n",
      "RangeIndex: 76051 entries, 0 to 76050\n",
      "Data columns (total 6 columns):\n",
      " #   Column         Non-Null Count  Dtype         \n",
      "---  ------         --------------  -----         \n",
      " 0   id             76051 non-null  object        \n",
      " 1   user_id        76051 non-null  int64         \n",
      " 2   message_date   76051 non-null  datetime64[ns]\n",
      " 3   message_year   76051 non-null  int64         \n",
      " 4   message_month  76051 non-null  int64         \n",
      " 5   message_day    76051 non-null  int64         \n",
      "dtypes: datetime64[ns](1), int64(4), object(1)\n",
      "memory usage: 3.5+ MB\n"
     ]
    },
    {
     "data": {
      "text/html": [
       "<div>\n",
       "<style scoped>\n",
       "    .dataframe tbody tr th:only-of-type {\n",
       "        vertical-align: middle;\n",
       "    }\n",
       "\n",
       "    .dataframe tbody tr th {\n",
       "        vertical-align: top;\n",
       "    }\n",
       "\n",
       "    .dataframe thead th {\n",
       "        text-align: right;\n",
       "    }\n",
       "</style>\n",
       "<table border=\"1\" class=\"dataframe\">\n",
       "  <thead>\n",
       "    <tr style=\"text-align: right;\">\n",
       "      <th></th>\n",
       "      <th>id</th>\n",
       "      <th>user_id</th>\n",
       "      <th>message_date</th>\n",
       "      <th>message_year</th>\n",
       "      <th>message_month</th>\n",
       "      <th>message_day</th>\n",
       "    </tr>\n",
       "  </thead>\n",
       "  <tbody>\n",
       "    <tr>\n",
       "      <th>36548</th>\n",
       "      <td>1243_28</td>\n",
       "      <td>1243</td>\n",
       "      <td>2018-12-04</td>\n",
       "      <td>2018</td>\n",
       "      <td>12</td>\n",
       "      <td>4</td>\n",
       "    </tr>\n",
       "    <tr>\n",
       "      <th>69590</th>\n",
       "      <td>1453_38</td>\n",
       "      <td>1453</td>\n",
       "      <td>2018-12-27</td>\n",
       "      <td>2018</td>\n",
       "      <td>12</td>\n",
       "      <td>27</td>\n",
       "    </tr>\n",
       "    <tr>\n",
       "      <th>68226</th>\n",
       "      <td>1440_92</td>\n",
       "      <td>1440</td>\n",
       "      <td>2018-10-05</td>\n",
       "      <td>2018</td>\n",
       "      <td>10</td>\n",
       "      <td>5</td>\n",
       "    </tr>\n",
       "    <tr>\n",
       "      <th>28695</th>\n",
       "      <td>1174_485</td>\n",
       "      <td>1174</td>\n",
       "      <td>2018-07-14</td>\n",
       "      <td>2018</td>\n",
       "      <td>7</td>\n",
       "      <td>14</td>\n",
       "    </tr>\n",
       "    <tr>\n",
       "      <th>19593</th>\n",
       "      <td>1126_328</td>\n",
       "      <td>1126</td>\n",
       "      <td>2018-07-21</td>\n",
       "      <td>2018</td>\n",
       "      <td>7</td>\n",
       "      <td>21</td>\n",
       "    </tr>\n",
       "  </tbody>\n",
       "</table>\n",
       "</div>"
      ],
      "text/plain": [
       "             id  user_id message_date  message_year  message_month  \\\n",
       "36548   1243_28     1243   2018-12-04          2018             12   \n",
       "69590   1453_38     1453   2018-12-27          2018             12   \n",
       "68226   1440_92     1440   2018-10-05          2018             10   \n",
       "28695  1174_485     1174   2018-07-14          2018              7   \n",
       "19593  1126_328     1126   2018-07-21          2018              7   \n",
       "\n",
       "       message_day  \n",
       "36548            4  \n",
       "69590           27  \n",
       "68226            5  \n",
       "28695           14  \n",
       "19593           21  "
      ]
     },
     "execution_count": 30,
     "metadata": {},
     "output_type": "execute_result"
    }
   ],
   "source": [
    "data_message.info()\n",
    "data_message.sample(5)"
   ]
  },
  {
   "cell_type": "markdown",
   "metadata": {},
   "source": [
    "## Internet"
   ]
  },
  {
   "cell_type": "code",
   "execution_count": 31,
   "metadata": {
    "collapsed": true
   },
   "outputs": [
    {
     "name": "stdout",
     "output_type": "stream",
     "text": [
      "<class 'pandas.core.frame.DataFrame'>\n",
      "RangeIndex: 104825 entries, 0 to 104824\n",
      "Data columns (total 4 columns):\n",
      " #   Column        Non-Null Count   Dtype  \n",
      "---  ------        --------------   -----  \n",
      " 0   id            104825 non-null  object \n",
      " 1   user_id       104825 non-null  int64  \n",
      " 2   session_date  104825 non-null  object \n",
      " 3   mb_used       104825 non-null  float64\n",
      "dtypes: float64(1), int64(1), object(2)\n",
      "memory usage: 3.2+ MB\n"
     ]
    }
   ],
   "source": [
    "data_internet.info()"
   ]
  },
  {
   "cell_type": "code",
   "execution_count": 32,
   "metadata": {
    "collapsed": true
   },
   "outputs": [
    {
     "data": {
      "text/html": [
       "<div>\n",
       "<style scoped>\n",
       "    .dataframe tbody tr th:only-of-type {\n",
       "        vertical-align: middle;\n",
       "    }\n",
       "\n",
       "    .dataframe tbody tr th {\n",
       "        vertical-align: top;\n",
       "    }\n",
       "\n",
       "    .dataframe thead th {\n",
       "        text-align: right;\n",
       "    }\n",
       "</style>\n",
       "<table border=\"1\" class=\"dataframe\">\n",
       "  <thead>\n",
       "    <tr style=\"text-align: right;\">\n",
       "      <th></th>\n",
       "      <th>id</th>\n",
       "      <th>user_id</th>\n",
       "      <th>session_date</th>\n",
       "      <th>mb_used</th>\n",
       "    </tr>\n",
       "  </thead>\n",
       "  <tbody>\n",
       "    <tr>\n",
       "      <th>48820</th>\n",
       "      <td>1217_160</td>\n",
       "      <td>1217</td>\n",
       "      <td>2018-11-28</td>\n",
       "      <td>105.60</td>\n",
       "    </tr>\n",
       "    <tr>\n",
       "      <th>101880</th>\n",
       "      <td>1488_282</td>\n",
       "      <td>1488</td>\n",
       "      <td>2018-08-09</td>\n",
       "      <td>931.22</td>\n",
       "    </tr>\n",
       "    <tr>\n",
       "      <th>22997</th>\n",
       "      <td>1106_236</td>\n",
       "      <td>1106</td>\n",
       "      <td>2018-07-30</td>\n",
       "      <td>376.72</td>\n",
       "    </tr>\n",
       "    <tr>\n",
       "      <th>92903</th>\n",
       "      <td>1434_132</td>\n",
       "      <td>1434</td>\n",
       "      <td>2018-06-16</td>\n",
       "      <td>0.00</td>\n",
       "    </tr>\n",
       "    <tr>\n",
       "      <th>1859</th>\n",
       "      <td>1010_10</td>\n",
       "      <td>1010</td>\n",
       "      <td>2018-08-01</td>\n",
       "      <td>651.90</td>\n",
       "    </tr>\n",
       "  </tbody>\n",
       "</table>\n",
       "</div>"
      ],
      "text/plain": [
       "              id  user_id session_date  mb_used\n",
       "48820   1217_160     1217   2018-11-28   105.60\n",
       "101880  1488_282     1488   2018-08-09   931.22\n",
       "22997   1106_236     1106   2018-07-30   376.72\n",
       "92903   1434_132     1434   2018-06-16     0.00\n",
       "1859     1010_10     1010   2018-08-01   651.90"
      ]
     },
     "execution_count": 32,
     "metadata": {},
     "output_type": "execute_result"
    }
   ],
   "source": [
    "data_internet.sample(5)"
   ]
  },
  {
   "cell_type": "code",
   "execution_count": 33,
   "metadata": {
    "collapsed": true
   },
   "outputs": [
    {
     "data": {
      "text/plain": [
       "id              0\n",
       "user_id         0\n",
       "session_date    0\n",
       "mb_used         0\n",
       "dtype: int64"
      ]
     },
     "execution_count": 33,
     "metadata": {},
     "output_type": "execute_result"
    }
   ],
   "source": [
    "data_internet.isnull().sum()"
   ]
  },
  {
   "cell_type": "markdown",
   "metadata": {},
   "source": [
    "Pada data frame data_internet, dapat dilihat bahwa terdapat 4 kolom, dimana kolom itu sudah terlihat bersih dan dapat digunakan. Meskipun begitu, kolom `session_date` menggunakan data type `object` (string) , dimana kolom tersebut lebih cocok menggunakan data type `datetime`"
   ]
  },
  {
   "cell_type": "markdown",
   "metadata": {},
   "source": [
    " "
   ]
  },
  {
   "cell_type": "markdown",
   "metadata": {},
   "source": [
    "### Memperbaiki Data pada dataframe `data_internet`"
   ]
  },
  {
   "cell_type": "markdown",
   "metadata": {},
   "source": [
    "Mengubah data type `session_date` menjadi datatime"
   ]
  },
  {
   "cell_type": "code",
   "execution_count": 34,
   "metadata": {},
   "outputs": [],
   "source": [
    "data_internet['session_date'] = pd.to_datetime(data_internet['session_date'])"
   ]
  },
  {
   "cell_type": "code",
   "execution_count": 35,
   "metadata": {},
   "outputs": [
    {
     "name": "stdout",
     "output_type": "stream",
     "text": [
      "<class 'pandas.core.frame.DataFrame'>\n",
      "RangeIndex: 104825 entries, 0 to 104824\n",
      "Data columns (total 4 columns):\n",
      " #   Column        Non-Null Count   Dtype         \n",
      "---  ------        --------------   -----         \n",
      " 0   id            104825 non-null  object        \n",
      " 1   user_id       104825 non-null  int64         \n",
      " 2   session_date  104825 non-null  datetime64[ns]\n",
      " 3   mb_used       104825 non-null  float64       \n",
      "dtypes: datetime64[ns](1), float64(1), int64(1), object(1)\n",
      "memory usage: 3.2+ MB\n"
     ]
    }
   ],
   "source": [
    "data_internet.info()"
   ]
  },
  {
   "cell_type": "markdown",
   "metadata": {},
   "source": [
    "### Memperkaya Kualitas Data pada dataframe `data_internet`"
   ]
  },
  {
   "cell_type": "markdown",
   "metadata": {},
   "source": [
    "Membagi kolom `session_date` menjadi 3 bagian, year, month, dan day"
   ]
  },
  {
   "cell_type": "code",
   "execution_count": 36,
   "metadata": {},
   "outputs": [],
   "source": [
    "data_internet['session_year'] = data_internet['session_date'].dt.year\n",
    "data_internet['session_month'] = data_internet['session_date'].dt.month\n",
    "data_internet['session_day'] = data_internet['session_date'].dt.day"
   ]
  },
  {
   "cell_type": "code",
   "execution_count": 37,
   "metadata": {
    "collapsed": true
   },
   "outputs": [
    {
     "name": "stdout",
     "output_type": "stream",
     "text": [
      "<class 'pandas.core.frame.DataFrame'>\n",
      "RangeIndex: 104825 entries, 0 to 104824\n",
      "Data columns (total 7 columns):\n",
      " #   Column         Non-Null Count   Dtype         \n",
      "---  ------         --------------   -----         \n",
      " 0   id             104825 non-null  object        \n",
      " 1   user_id        104825 non-null  int64         \n",
      " 2   session_date   104825 non-null  datetime64[ns]\n",
      " 3   mb_used        104825 non-null  float64       \n",
      " 4   session_year   104825 non-null  int64         \n",
      " 5   session_month  104825 non-null  int64         \n",
      " 6   session_day    104825 non-null  int64         \n",
      "dtypes: datetime64[ns](1), float64(1), int64(4), object(1)\n",
      "memory usage: 5.6+ MB\n"
     ]
    },
    {
     "data": {
      "text/html": [
       "<div>\n",
       "<style scoped>\n",
       "    .dataframe tbody tr th:only-of-type {\n",
       "        vertical-align: middle;\n",
       "    }\n",
       "\n",
       "    .dataframe tbody tr th {\n",
       "        vertical-align: top;\n",
       "    }\n",
       "\n",
       "    .dataframe thead th {\n",
       "        text-align: right;\n",
       "    }\n",
       "</style>\n",
       "<table border=\"1\" class=\"dataframe\">\n",
       "  <thead>\n",
       "    <tr style=\"text-align: right;\">\n",
       "      <th></th>\n",
       "      <th>id</th>\n",
       "      <th>user_id</th>\n",
       "      <th>session_date</th>\n",
       "      <th>mb_used</th>\n",
       "      <th>session_year</th>\n",
       "      <th>session_month</th>\n",
       "      <th>session_day</th>\n",
       "    </tr>\n",
       "  </thead>\n",
       "  <tbody>\n",
       "    <tr>\n",
       "      <th>81871</th>\n",
       "      <td>1384_69</td>\n",
       "      <td>1384</td>\n",
       "      <td>2018-06-26</td>\n",
       "      <td>298.86</td>\n",
       "      <td>2018</td>\n",
       "      <td>6</td>\n",
       "      <td>26</td>\n",
       "    </tr>\n",
       "    <tr>\n",
       "      <th>2250</th>\n",
       "      <td>1010_443</td>\n",
       "      <td>1010</td>\n",
       "      <td>2018-04-19</td>\n",
       "      <td>117.81</td>\n",
       "      <td>2018</td>\n",
       "      <td>4</td>\n",
       "      <td>19</td>\n",
       "    </tr>\n",
       "    <tr>\n",
       "      <th>902</th>\n",
       "      <td>1005_16</td>\n",
       "      <td>1005</td>\n",
       "      <td>2018-12-27</td>\n",
       "      <td>269.77</td>\n",
       "      <td>2018</td>\n",
       "      <td>12</td>\n",
       "      <td>27</td>\n",
       "    </tr>\n",
       "    <tr>\n",
       "      <th>5832</th>\n",
       "      <td>1031_540</td>\n",
       "      <td>1031</td>\n",
       "      <td>2018-12-10</td>\n",
       "      <td>57.88</td>\n",
       "      <td>2018</td>\n",
       "      <td>12</td>\n",
       "      <td>10</td>\n",
       "    </tr>\n",
       "    <tr>\n",
       "      <th>26897</th>\n",
       "      <td>1123_392</td>\n",
       "      <td>1123</td>\n",
       "      <td>2018-07-02</td>\n",
       "      <td>985.36</td>\n",
       "      <td>2018</td>\n",
       "      <td>7</td>\n",
       "      <td>2</td>\n",
       "    </tr>\n",
       "  </tbody>\n",
       "</table>\n",
       "</div>"
      ],
      "text/plain": [
       "             id  user_id session_date  mb_used  session_year  session_month  \\\n",
       "81871   1384_69     1384   2018-06-26   298.86          2018              6   \n",
       "2250   1010_443     1010   2018-04-19   117.81          2018              4   \n",
       "902     1005_16     1005   2018-12-27   269.77          2018             12   \n",
       "5832   1031_540     1031   2018-12-10    57.88          2018             12   \n",
       "26897  1123_392     1123   2018-07-02   985.36          2018              7   \n",
       "\n",
       "       session_day  \n",
       "81871           26  \n",
       "2250            19  \n",
       "902             27  \n",
       "5832            10  \n",
       "26897            2  "
      ]
     },
     "execution_count": 37,
     "metadata": {},
     "output_type": "execute_result"
    }
   ],
   "source": [
    "data_internet.info()\n",
    "data_internet.sample(5)"
   ]
  },
  {
   "cell_type": "markdown",
   "metadata": {},
   "source": [
    "## Mempelajari Syarat dan Kondisi Terkait Paket Prabayar"
   ]
  },
  {
   "cell_type": "code",
   "execution_count": 38,
   "metadata": {
    "collapsed": true
   },
   "outputs": [
    {
     "data": {
      "text/html": [
       "<div>\n",
       "<style scoped>\n",
       "    .dataframe tbody tr th:only-of-type {\n",
       "        vertical-align: middle;\n",
       "    }\n",
       "\n",
       "    .dataframe tbody tr th {\n",
       "        vertical-align: top;\n",
       "    }\n",
       "\n",
       "    .dataframe thead th {\n",
       "        text-align: right;\n",
       "    }\n",
       "</style>\n",
       "<table border=\"1\" class=\"dataframe\">\n",
       "  <thead>\n",
       "    <tr style=\"text-align: right;\">\n",
       "      <th></th>\n",
       "      <th>messages_included</th>\n",
       "      <th>mb_per_month_included</th>\n",
       "      <th>minutes_included</th>\n",
       "      <th>usd_monthly_pay</th>\n",
       "      <th>usd_per_gb</th>\n",
       "      <th>usd_per_message</th>\n",
       "      <th>usd_per_minute</th>\n",
       "      <th>plan_name</th>\n",
       "      <th>usd_per_call</th>\n",
       "    </tr>\n",
       "  </thead>\n",
       "  <tbody>\n",
       "    <tr>\n",
       "      <th>0</th>\n",
       "      <td>50</td>\n",
       "      <td>15360</td>\n",
       "      <td>500</td>\n",
       "      <td>20.0</td>\n",
       "      <td>10.0</td>\n",
       "      <td>0.03</td>\n",
       "      <td>0.03</td>\n",
       "      <td>surf</td>\n",
       "      <td>0.040000</td>\n",
       "    </tr>\n",
       "    <tr>\n",
       "      <th>1</th>\n",
       "      <td>1000</td>\n",
       "      <td>30720</td>\n",
       "      <td>3000</td>\n",
       "      <td>70.0</td>\n",
       "      <td>7.0</td>\n",
       "      <td>0.01</td>\n",
       "      <td>0.01</td>\n",
       "      <td>ultimate</td>\n",
       "      <td>0.023333</td>\n",
       "    </tr>\n",
       "  </tbody>\n",
       "</table>\n",
       "</div>"
      ],
      "text/plain": [
       "   messages_included  mb_per_month_included  minutes_included  \\\n",
       "0                 50                  15360               500   \n",
       "1               1000                  30720              3000   \n",
       "\n",
       "   usd_monthly_pay  usd_per_gb  usd_per_message  usd_per_minute plan_name  \\\n",
       "0             20.0        10.0             0.03            0.03      surf   \n",
       "1             70.0         7.0             0.01            0.01  ultimate   \n",
       "\n",
       "   usd_per_call  \n",
       "0      0.040000  \n",
       "1      0.023333  "
      ]
     },
     "execution_count": 38,
     "metadata": {},
     "output_type": "execute_result"
    }
   ],
   "source": [
    "data_plan"
   ]
  },
  {
   "cell_type": "markdown",
   "metadata": {},
   "source": [
    "**Paket Surf**\n",
    "\n",
    "Paket \"Surf\" menawarkan pelanggan 50 pesan, 15,360 megabyte data, dan 500 menit panggilan per bulan dengan biaya bulanan sebesar 20. Pelanggan dengan paket Surf akan dikenakan biaya tambahan sebesar 0.03 untuk setiap pesan dan menit panggilan yang melebihi alokasi bulanan, serta 10.00 untuk setiap gigabyte data yang digunakan melebihi alokasi."
   ]
  },
  {
   "cell_type": "markdown",
   "metadata": {},
   "source": [
    "**Paket Ultimate**\n",
    "\n",
    "Sementara itu, paket \"Ultimate\" menawarkan alokasi yang lebih besar, dengan 1,000 pesan, 30,720 megabyte data, dan 3,000 menit panggilan per bulan. Biaya bulanannya adalah 70. Paket ini juga membebankan biaya tambahan sebesar 0.01 untuk setiap pesan dan menit panggilan yang melebihi alokasi, serta 7.00 untuk setiap gigabyte data yang digunakan melebihi alokasi bulanan."
   ]
  },
  {
   "cell_type": "markdown",
   "metadata": {},
   "source": [
    "## Mengagregasi Data per Pengguna\n"
   ]
  },
  {
   "cell_type": "markdown",
   "metadata": {},
   "source": [
    "Hitung jumlah panggilan yang dilakukan oleh setiap pengguna per bulan"
   ]
  },
  {
   "cell_type": "code",
   "execution_count": 39,
   "metadata": {},
   "outputs": [],
   "source": [
    "calls_per_month = data_call.groupby(['user_id', 'call_month']).agg({'duration': 'sum'}).reset_index()\n",
    "calls_per_month.columns = ['user_id', 'month', 'total_minutes']"
   ]
  },
  {
   "cell_type": "markdown",
   "metadata": {},
   "source": [
    "Hitung jumlah menit yang dihabiskan oleh setiap pengguna untuk melakukan panggilan per bulan"
   ]
  },
  {
   "cell_type": "code",
   "execution_count": 40,
   "metadata": {},
   "outputs": [],
   "source": [
    "messages_per_month = data_message.groupby(['user_id', 'message_month']).size().reset_index(name='total_messages')\n",
    "messages_per_month.columns = ['user_id', 'month', 'total_messages']\n"
   ]
  },
  {
   "cell_type": "markdown",
   "metadata": {},
   "source": [
    "Hitung jumlah SMS yang dikirim oleh setiap pengguna per bulan"
   ]
  },
  {
   "cell_type": "code",
   "execution_count": 41,
   "metadata": {},
   "outputs": [],
   "source": [
    "internet_per_month = data_internet.groupby(['user_id', 'session_month']).agg({'mb_used': 'sum'}).reset_index()\n",
    "internet_per_month.columns = ['user_id', 'month', 'total_data_mb']\n"
   ]
  },
  {
   "cell_type": "markdown",
   "metadata": {},
   "source": [
    "Hitung volume traffic internet yang digunakan oleh setiap pengguna per bulan"
   ]
  },
  {
   "cell_type": "code",
   "execution_count": 42,
   "metadata": {},
   "outputs": [],
   "source": [
    "merged_data = calls_per_month.merge(messages_per_month, on=['user_id', 'month'], how='outer')\n",
    "merged_data = merged_data.merge(internet_per_month, on=['user_id', 'month'], how='outer')\n",
    "merged_data = merged_data.fillna(0)\n"
   ]
  },
  {
   "cell_type": "markdown",
   "metadata": {},
   "source": [
    "Penggabungan data panggilan, menit, SMS, dan internet berdasarkan user_id dan month"
   ]
  },
  {
   "cell_type": "code",
   "execution_count": 44,
   "metadata": {},
   "outputs": [],
   "source": [
    "user_data = merged_data.merge(data_user[['user_id', 'plan']], on='user_id', how='outer')"
   ]
  },
  {
   "cell_type": "markdown",
   "metadata": {},
   "source": [
    "Tambahkan informasi paket prabayarnya"
   ]
  },
  {
   "cell_type": "code",
   "execution_count": 46,
   "metadata": {},
   "outputs": [],
   "source": [
    "user_data = user_data.merge(data_plan[['plan_name', 'minutes_included', 'messages_included', 'mb_per_month_included', 'usd_monthly_pay', 'usd_per_gb', 'usd_per_message', 'usd_per_minute']], left_on='plan', right_on='plan_name', how='outer')"
   ]
  },
  {
   "cell_type": "markdown",
   "metadata": {},
   "source": [
    "Hitung pendapatan bulanan untuk setiap pengguna"
   ]
  },
  {
   "cell_type": "code",
   "execution_count": 47,
   "metadata": {},
   "outputs": [],
   "source": [
    "user_data['revenue'] = user_data.apply(lambda row: max(0, (row['total_minutes'] - row['minutes_included']) * row   ['usd_per_minute']) + max(0, (row['total_messages'] - row['messages_included']) * row['usd_per_message']) + max(0, (row['total_data_mb'] - row['mb_per_month_included']) / 1024 * row['usd_per_gb']) + row['usd_monthly_pay'], axis=1)"
   ]
  },
  {
   "cell_type": "code",
   "execution_count": 48,
   "metadata": {},
   "outputs": [],
   "source": [
    "user_data = user_data[['user_id', 'month', 'plan', 'total_minutes', 'total_messages', 'total_data_mb', 'revenue']]"
   ]
  },
  {
   "cell_type": "markdown",
   "metadata": {},
   "source": [
    "Melakukan Pengecekan pada dataframe `user_data`"
   ]
  },
  {
   "cell_type": "code",
   "execution_count": 49,
   "metadata": {
    "collapsed": true
   },
   "outputs": [
    {
     "data": {
      "text/html": [
       "<div>\n",
       "<style scoped>\n",
       "    .dataframe tbody tr th:only-of-type {\n",
       "        vertical-align: middle;\n",
       "    }\n",
       "\n",
       "    .dataframe tbody tr th {\n",
       "        vertical-align: top;\n",
       "    }\n",
       "\n",
       "    .dataframe thead th {\n",
       "        text-align: right;\n",
       "    }\n",
       "</style>\n",
       "<table border=\"1\" class=\"dataframe\">\n",
       "  <thead>\n",
       "    <tr style=\"text-align: right;\">\n",
       "      <th></th>\n",
       "      <th>user_id</th>\n",
       "      <th>month</th>\n",
       "      <th>plan</th>\n",
       "      <th>total_minutes</th>\n",
       "      <th>total_messages</th>\n",
       "      <th>total_data_mb</th>\n",
       "      <th>revenue</th>\n",
       "    </tr>\n",
       "  </thead>\n",
       "  <tbody>\n",
       "    <tr>\n",
       "      <th>1770</th>\n",
       "      <td>1328</td>\n",
       "      <td>7.0</td>\n",
       "      <td>surf</td>\n",
       "      <td>850.55</td>\n",
       "      <td>164.0</td>\n",
       "      <td>36408.26</td>\n",
       "      <td>239.485914</td>\n",
       "    </tr>\n",
       "    <tr>\n",
       "      <th>951</th>\n",
       "      <td>1076</td>\n",
       "      <td>7.0</td>\n",
       "      <td>surf</td>\n",
       "      <td>27.12</td>\n",
       "      <td>9.0</td>\n",
       "      <td>113.74</td>\n",
       "      <td>20.000000</td>\n",
       "    </tr>\n",
       "    <tr>\n",
       "      <th>1609</th>\n",
       "      <td>1281</td>\n",
       "      <td>9.0</td>\n",
       "      <td>surf</td>\n",
       "      <td>564.24</td>\n",
       "      <td>55.0</td>\n",
       "      <td>9391.17</td>\n",
       "      <td>22.077200</td>\n",
       "    </tr>\n",
       "    <tr>\n",
       "      <th>34</th>\n",
       "      <td>1031</td>\n",
       "      <td>11.0</td>\n",
       "      <td>ultimate</td>\n",
       "      <td>575.18</td>\n",
       "      <td>1.0</td>\n",
       "      <td>16198.94</td>\n",
       "      <td>70.000000</td>\n",
       "    </tr>\n",
       "    <tr>\n",
       "      <th>1619</th>\n",
       "      <td>1285</td>\n",
       "      <td>10.0</td>\n",
       "      <td>surf</td>\n",
       "      <td>353.78</td>\n",
       "      <td>28.0</td>\n",
       "      <td>4319.21</td>\n",
       "      <td>20.000000</td>\n",
       "    </tr>\n",
       "    <tr>\n",
       "      <th>397</th>\n",
       "      <td>1270</td>\n",
       "      <td>9.0</td>\n",
       "      <td>ultimate</td>\n",
       "      <td>192.22</td>\n",
       "      <td>13.0</td>\n",
       "      <td>12029.43</td>\n",
       "      <td>70.000000</td>\n",
       "    </tr>\n",
       "    <tr>\n",
       "      <th>1812</th>\n",
       "      <td>1337</td>\n",
       "      <td>11.0</td>\n",
       "      <td>surf</td>\n",
       "      <td>344.94</td>\n",
       "      <td>46.0</td>\n",
       "      <td>13300.93</td>\n",
       "      <td>20.000000</td>\n",
       "    </tr>\n",
       "    <tr>\n",
       "      <th>1036</th>\n",
       "      <td>1100</td>\n",
       "      <td>10.0</td>\n",
       "      <td>surf</td>\n",
       "      <td>238.54</td>\n",
       "      <td>64.0</td>\n",
       "      <td>16753.37</td>\n",
       "      <td>34.027129</td>\n",
       "    </tr>\n",
       "    <tr>\n",
       "      <th>823</th>\n",
       "      <td>1044</td>\n",
       "      <td>9.0</td>\n",
       "      <td>surf</td>\n",
       "      <td>329.00</td>\n",
       "      <td>47.0</td>\n",
       "      <td>22425.25</td>\n",
       "      <td>88.996582</td>\n",
       "    </tr>\n",
       "    <tr>\n",
       "      <th>64</th>\n",
       "      <td>1041</td>\n",
       "      <td>7.0</td>\n",
       "      <td>ultimate</td>\n",
       "      <td>505.47</td>\n",
       "      <td>0.0</td>\n",
       "      <td>23400.72</td>\n",
       "      <td>70.000000</td>\n",
       "    </tr>\n",
       "    <tr>\n",
       "      <th>855</th>\n",
       "      <td>1053</td>\n",
       "      <td>8.0</td>\n",
       "      <td>surf</td>\n",
       "      <td>454.84</td>\n",
       "      <td>13.0</td>\n",
       "      <td>21209.15</td>\n",
       "      <td>77.120605</td>\n",
       "    </tr>\n",
       "    <tr>\n",
       "      <th>625</th>\n",
       "      <td>1451</td>\n",
       "      <td>8.0</td>\n",
       "      <td>ultimate</td>\n",
       "      <td>247.03</td>\n",
       "      <td>33.0</td>\n",
       "      <td>6150.17</td>\n",
       "      <td>70.000000</td>\n",
       "    </tr>\n",
       "    <tr>\n",
       "      <th>1620</th>\n",
       "      <td>1285</td>\n",
       "      <td>11.0</td>\n",
       "      <td>surf</td>\n",
       "      <td>288.51</td>\n",
       "      <td>25.0</td>\n",
       "      <td>3064.53</td>\n",
       "      <td>20.000000</td>\n",
       "    </tr>\n",
       "    <tr>\n",
       "      <th>10</th>\n",
       "      <td>1011</td>\n",
       "      <td>10.0</td>\n",
       "      <td>ultimate</td>\n",
       "      <td>476.99</td>\n",
       "      <td>64.0</td>\n",
       "      <td>24575.65</td>\n",
       "      <td>70.000000</td>\n",
       "    </tr>\n",
       "    <tr>\n",
       "      <th>1012</th>\n",
       "      <td>1095</td>\n",
       "      <td>12.0</td>\n",
       "      <td>surf</td>\n",
       "      <td>136.96</td>\n",
       "      <td>11.0</td>\n",
       "      <td>18523.18</td>\n",
       "      <td>50.890430</td>\n",
       "    </tr>\n",
       "    <tr>\n",
       "      <th>745</th>\n",
       "      <td>1007</td>\n",
       "      <td>11.0</td>\n",
       "      <td>surf</td>\n",
       "      <td>490.29</td>\n",
       "      <td>48.0</td>\n",
       "      <td>24334.00</td>\n",
       "      <td>107.636719</td>\n",
       "    </tr>\n",
       "    <tr>\n",
       "      <th>1572</th>\n",
       "      <td>1268</td>\n",
       "      <td>3.0</td>\n",
       "      <td>surf</td>\n",
       "      <td>287.75</td>\n",
       "      <td>10.0</td>\n",
       "      <td>19992.19</td>\n",
       "      <td>65.236230</td>\n",
       "    </tr>\n",
       "    <tr>\n",
       "      <th>35</th>\n",
       "      <td>1031</td>\n",
       "      <td>12.0</td>\n",
       "      <td>ultimate</td>\n",
       "      <td>443.17</td>\n",
       "      <td>5.0</td>\n",
       "      <td>12622.11</td>\n",
       "      <td>70.000000</td>\n",
       "    </tr>\n",
       "    <tr>\n",
       "      <th>13</th>\n",
       "      <td>1013</td>\n",
       "      <td>12.0</td>\n",
       "      <td>ultimate</td>\n",
       "      <td>203.37</td>\n",
       "      <td>16.0</td>\n",
       "      <td>20113.92</td>\n",
       "      <td>70.000000</td>\n",
       "    </tr>\n",
       "    <tr>\n",
       "      <th>1802</th>\n",
       "      <td>1335</td>\n",
       "      <td>12.0</td>\n",
       "      <td>surf</td>\n",
       "      <td>418.81</td>\n",
       "      <td>89.0</td>\n",
       "      <td>16815.88</td>\n",
       "      <td>35.387578</td>\n",
       "    </tr>\n",
       "  </tbody>\n",
       "</table>\n",
       "</div>"
      ],
      "text/plain": [
       "      user_id  month      plan  total_minutes  total_messages  total_data_mb  \\\n",
       "1770     1328    7.0      surf         850.55           164.0       36408.26   \n",
       "951      1076    7.0      surf          27.12             9.0         113.74   \n",
       "1609     1281    9.0      surf         564.24            55.0        9391.17   \n",
       "34       1031   11.0  ultimate         575.18             1.0       16198.94   \n",
       "1619     1285   10.0      surf         353.78            28.0        4319.21   \n",
       "397      1270    9.0  ultimate         192.22            13.0       12029.43   \n",
       "1812     1337   11.0      surf         344.94            46.0       13300.93   \n",
       "1036     1100   10.0      surf         238.54            64.0       16753.37   \n",
       "823      1044    9.0      surf         329.00            47.0       22425.25   \n",
       "64       1041    7.0  ultimate         505.47             0.0       23400.72   \n",
       "855      1053    8.0      surf         454.84            13.0       21209.15   \n",
       "625      1451    8.0  ultimate         247.03            33.0        6150.17   \n",
       "1620     1285   11.0      surf         288.51            25.0        3064.53   \n",
       "10       1011   10.0  ultimate         476.99            64.0       24575.65   \n",
       "1012     1095   12.0      surf         136.96            11.0       18523.18   \n",
       "745      1007   11.0      surf         490.29            48.0       24334.00   \n",
       "1572     1268    3.0      surf         287.75            10.0       19992.19   \n",
       "35       1031   12.0  ultimate         443.17             5.0       12622.11   \n",
       "13       1013   12.0  ultimate         203.37            16.0       20113.92   \n",
       "1802     1335   12.0      surf         418.81            89.0       16815.88   \n",
       "\n",
       "         revenue  \n",
       "1770  239.485914  \n",
       "951    20.000000  \n",
       "1609   22.077200  \n",
       "34     70.000000  \n",
       "1619   20.000000  \n",
       "397    70.000000  \n",
       "1812   20.000000  \n",
       "1036   34.027129  \n",
       "823    88.996582  \n",
       "64     70.000000  \n",
       "855    77.120605  \n",
       "625    70.000000  \n",
       "1620   20.000000  \n",
       "10     70.000000  \n",
       "1012   50.890430  \n",
       "745   107.636719  \n",
       "1572   65.236230  \n",
       "35     70.000000  \n",
       "13     70.000000  \n",
       "1802   35.387578  "
      ]
     },
     "execution_count": 49,
     "metadata": {},
     "output_type": "execute_result"
    }
   ],
   "source": [
    "user_data.sample(20)"
   ]
  },
  {
   "cell_type": "markdown",
   "metadata": {},
   "source": [
    "## Mempelajari Perilaku Pengguna"
   ]
  },
  {
   "cell_type": "markdown",
   "metadata": {},
   "source": [
    "### Pengguna terhadap Panggilan"
   ]
  },
  {
   "cell_type": "code",
   "execution_count": 50,
   "metadata": {
    "collapsed": true
   },
   "outputs": [
    {
     "data": {
      "image/png": "[encoded data removed]",
      "text/plain": [
       "<Figure size 720x432 with 1 Axes>"
      ]
     },
     "metadata": {
      "needs_background": "light"
     },
     "output_type": "display_data"
    }
   ],
   "source": [
    "# Bandingkan durasi rata-rata panggilan setiap paket per bulannya. Buatlah sebuah diagram batang untuk memvisualisasikannya.\n",
    "call_duration_avg = user_data.groupby(['month', 'plan'])['total_minutes'].mean().unstack()\n",
    "call_duration_avg.plot(kind='bar', figsize=(10, 6))\n",
    "plt.title('Rata-rata Durasi Panggilan per Bulan')\n",
    "plt.xlabel('Bulan')\n",
    "plt.ylabel('Durasi Rata-rata (menit)')\n",
    "plt.legend(title='Paket', labels=['Surf', 'Ultimate'])\n",
    "plt.show()"
   ]
  },
  {
   "cell_type": "code",
   "execution_count": 51,
   "metadata": {
    "collapsed": true
   },
   "outputs": [
    {
     "data": {
      "text/plain": [
       "<matplotlib.legend.Legend at 0x7f3e9567cd90>"
      ]
     },
     "execution_count": 51,
     "metadata": {},
     "output_type": "execute_result"
    },
    {
     "data": {
      "image/png": "[encoded data removed]",
      "text/plain": [
       "<Figure size 720x432 with 1 Axes>"
      ]
     },
     "metadata": {
      "needs_background": "light"
     },
     "output_type": "display_data"
    }
   ],
   "source": [
    "# Bandingkan jumlah menit yang dibutuhkan pengguna tiap paket per bulannya. Buatlah sebuah histogram.\n",
    "\n",
    "surf_duration = user_data[user_data['plan'] == 'surf']['total_minutes']\n",
    "ultimate_duration = user_data[user_data['plan'] == 'ultimate']['total_minutes']\n",
    "plt.figure(figsize=(10, 6))\n",
    "\n",
    "plt.hist([surf_duration, ultimate_duration], bins=30, alpha=0.5, label=['Surf', 'Ultimate'])\n",
    "plt.title('Histogram Jumlah Menit Panggilan per Bulan')\n",
    "plt.xlabel('Jumlah Menit')\n",
    "plt.ylabel('Jumlah Pengguna')\n",
    "plt.legend()"
   ]
  },
  {
   "cell_type": "code",
   "execution_count": 52,
   "metadata": {},
   "outputs": [
    {
     "name": "stdout",
     "output_type": "stream",
     "text": [
      "                      mean           var\n",
      "plan     month                          \n",
      "surf     1.0    192.840000  14795.440200\n",
      "         2.0    280.851111  46959.219961\n",
      "         3.0    310.970000  31821.317991\n",
      "         4.0    332.380000  45615.666796\n",
      "         5.0    377.053247  53282.922217\n",
      "         6.0    407.208866  40758.661193\n",
      "         7.0    424.523223  54434.184064\n",
      "         8.0    387.169630  48616.061790\n",
      "         9.0    390.992062  41580.494645\n",
      "         10.0   405.692363  46731.430317\n",
      "         11.0   399.599823  46105.085924\n",
      "         12.0   447.475283  56983.247423\n",
      "ultimate 1.0    183.162500  14991.369958\n",
      "         2.0    379.861429  68540.288348\n",
      "         3.0    285.701667  54273.917252\n",
      "         4.0    316.508095  31057.727496\n",
      "         5.0    383.664828  39290.610940\n",
      "         6.0    349.811064  37923.360514\n",
      "         7.0    403.767288  64844.426958\n",
      "         8.0    397.274789  47680.189425\n",
      "         9.0    413.287326  50994.505514\n",
      "         10.0   425.168019  48371.222127\n",
      "         11.0   420.477559  54265.152604\n",
      "         12.0   433.012583  55781.717507\n"
     ]
    }
   ],
   "source": [
    "# Hitung rata-rata dan varians dari durasi panggilan bulanan\n",
    "call_duration_stats = user_data.groupby(['plan', 'month'])['total_minutes'].agg(['mean', 'var'])\n",
    "print(call_duration_stats)"
   ]
  },
  {
   "cell_type": "code",
   "execution_count": 53,
   "metadata": {
    "scrolled": true
   },
   "outputs": [
    {
     "data": {
      "image/png": "[encoded data removed]",
      "text/plain": [
       "<Figure size 720x432 with 1 Axes>"
      ]
     },
     "metadata": {
      "needs_background": "light"
     },
     "output_type": "display_data"
    }
   ],
   "source": [
    "# Buatlah grafik boxplot untuk memvisualisasikan distribusi durasi panggilan bulanan\n",
    "plt.figure(figsize=(10, 6))\n",
    "sns.boxplot(x='month', y='total_minutes', hue='plan', data=user_data)\n",
    "plt.title('Distribusi Durasi Panggilan Bulanan per Paket')\n",
    "plt.xlabel('Bulan')\n",
    "plt.ylabel('Total Menit Panggilan')\n",
    "plt.legend(title='Paket')\n",
    "plt.show()"
   ]
  },
  {
   "cell_type": "markdown",
   "metadata": {},
   "source": [
    "Berdasarkan data yang telah dianalisis, terdapat perbedaan perilaku pengguna dalam melakukan panggilan antara paket Surf dan Ultimate. Sebagian besar pengguna paket Surf cenderung memiliki rata-rata durasi panggilan bulanan yang lebih tinggi daripada pengguna paket Ultimate, terutama pada beberapa bulan seperti bulan Oktober hingga Desember. Selain itu, variasi durasi panggilan bulanan juga menunjukkan perbedaan antara kedua paket, di mana pengguna paket Surf memiliki variasi yang lebih tinggi dibandingkan pengguna paket Ultimate. Namun, rata-rata durasi panggilan bulanan dari pengguna paket Ultimate terlihat stabil dibandingkan dengan pengguna paket Surf yang memiliki fluktuasi durasi panggilan bulanan yang lebih signifikan. Hal ini menunjukkan bahwa perilaku penggunaan panggilan memiliki perbedaan yang cukup signifikan antara kedua paket. "
   ]
  },
  {
   "cell_type": "markdown",
   "metadata": {},
   "source": [
    "### Pengguna terhadap Pesan/SMS"
   ]
  },
  {
   "cell_type": "code",
   "execution_count": 54,
   "metadata": {},
   "outputs": [
    {
     "data": {
      "image/png": "[encoded data removed]",
      "text/plain": [
       "<Figure size 720x432 with 1 Axes>"
      ]
     },
     "metadata": {
      "needs_background": "light"
     },
     "output_type": "display_data"
    }
   ],
   "source": [
    "# Bandingkan jumlah SMS yang cenderung dikirim pengguna tiap paket per bulannya\n",
    "surf_sms_mean = user_data[user_data['plan'] == 'surf']['total_messages'].mean()\n",
    "ultimate_sms_mean = user_data[user_data['plan'] == 'ultimate']['total_messages'].mean()\n",
    "\n",
    "plt.figure(figsize=(10, 6))\n",
    "plt.bar(['Surf', 'Ultimate'], [surf_sms_mean, ultimate_sms_mean], color=['blue', 'green'])\n",
    "plt.title('Rata-rata Jumlah SMS per Bulan')\n",
    "plt.xlabel('Paket Prabayar')\n",
    "plt.ylabel('Rata-rata Jumlah SMS')\n",
    "plt.show()"
   ]
  },
  {
   "cell_type": "code",
   "execution_count": 55,
   "metadata": {},
   "outputs": [
    {
     "data": {
      "image/png": "[encoded data removed]",
      "text/plain": [
       "<Figure size 864x432 with 1 Axes>"
      ]
     },
     "metadata": {
      "needs_background": "light"
     },
     "output_type": "display_data"
    }
   ],
   "source": [
    "sms_and_plan_data = user_data.merge(data_plan[['plan_name', 'usd_per_message']], left_on='plan', right_on='plan_name', how='left')\n",
    "\n",
    "sms_by_month = sms_and_plan_data.groupby(['month', 'plan_name'])['total_messages'].mean().reset_index()\n",
    "\n",
    "plt.figure(figsize=(12, 6))\n",
    "sns.barplot(x='month', y='total_messages', hue='plan_name', data=sms_by_month)\n",
    "plt.xlabel('Bulan')\n",
    "plt.ylabel('Rata-rata Jumlah SMS')\n",
    "plt.title('Rata-rata Pengiriman SMS per Bulan')\n",
    "plt.xticks(rotation=45)\n",
    "plt.legend(title='Paket')\n",
    "plt.show()"
   ]
  },
  {
   "cell_type": "code",
   "execution_count": 56,
   "metadata": {},
   "outputs": [
    {
     "data": {
      "text/html": [
       "<div>\n",
       "<style scoped>\n",
       "    .dataframe tbody tr th:only-of-type {\n",
       "        vertical-align: middle;\n",
       "    }\n",
       "\n",
       "    .dataframe tbody tr th {\n",
       "        vertical-align: top;\n",
       "    }\n",
       "\n",
       "    .dataframe thead th {\n",
       "        text-align: right;\n",
       "    }\n",
       "</style>\n",
       "<table border=\"1\" class=\"dataframe\">\n",
       "  <thead>\n",
       "    <tr style=\"text-align: right;\">\n",
       "      <th></th>\n",
       "      <th></th>\n",
       "      <th>mean</th>\n",
       "      <th>var</th>\n",
       "    </tr>\n",
       "    <tr>\n",
       "      <th>plan</th>\n",
       "      <th>month</th>\n",
       "      <th></th>\n",
       "      <th></th>\n",
       "    </tr>\n",
       "  </thead>\n",
       "  <tbody>\n",
       "    <tr>\n",
       "      <th rowspan=\"12\" valign=\"top\">surf</th>\n",
       "      <th>1.0</th>\n",
       "      <td>10.500000</td>\n",
       "      <td>220.500000</td>\n",
       "    </tr>\n",
       "    <tr>\n",
       "      <th>2.0</th>\n",
       "      <td>12.000000</td>\n",
       "      <td>386.000000</td>\n",
       "    </tr>\n",
       "    <tr>\n",
       "      <th>3.0</th>\n",
       "      <td>15.260870</td>\n",
       "      <td>346.565217</td>\n",
       "    </tr>\n",
       "    <tr>\n",
       "      <th>4.0</th>\n",
       "      <td>17.400000</td>\n",
       "      <td>501.591837</td>\n",
       "    </tr>\n",
       "    <tr>\n",
       "      <th>5.0</th>\n",
       "      <td>24.012987</td>\n",
       "      <td>847.197198</td>\n",
       "    </tr>\n",
       "    <tr>\n",
       "      <th>6.0</th>\n",
       "      <td>25.298969</td>\n",
       "      <td>914.920103</td>\n",
       "    </tr>\n",
       "    <tr>\n",
       "      <th>7.0</th>\n",
       "      <td>27.033058</td>\n",
       "      <td>923.915565</td>\n",
       "    </tr>\n",
       "    <tr>\n",
       "      <th>8.0</th>\n",
       "      <td>28.777778</td>\n",
       "      <td>1029.515528</td>\n",
       "    </tr>\n",
       "    <tr>\n",
       "      <th>9.0</th>\n",
       "      <td>30.762887</td>\n",
       "      <td>1003.829496</td>\n",
       "    </tr>\n",
       "    <tr>\n",
       "      <th>10.0</th>\n",
       "      <td>33.839662</td>\n",
       "      <td>1275.465708</td>\n",
       "    </tr>\n",
       "    <tr>\n",
       "      <th>11.0</th>\n",
       "      <td>32.385159</td>\n",
       "      <td>1065.344034</td>\n",
       "    </tr>\n",
       "    <tr>\n",
       "      <th>12.0</th>\n",
       "      <td>38.600629</td>\n",
       "      <td>1458.158612</td>\n",
       "    </tr>\n",
       "    <tr>\n",
       "      <th rowspan=\"12\" valign=\"top\">ultimate</th>\n",
       "      <th>1.0</th>\n",
       "      <td>15.500000</td>\n",
       "      <td>313.666667</td>\n",
       "    </tr>\n",
       "    <tr>\n",
       "      <th>2.0</th>\n",
       "      <td>21.571429</td>\n",
       "      <td>478.285714</td>\n",
       "    </tr>\n",
       "    <tr>\n",
       "      <th>3.0</th>\n",
       "      <td>20.250000</td>\n",
       "      <td>654.386364</td>\n",
       "    </tr>\n",
       "    <tr>\n",
       "      <th>4.0</th>\n",
       "      <td>22.047619</td>\n",
       "      <td>544.147619</td>\n",
       "    </tr>\n",
       "    <tr>\n",
       "      <th>5.0</th>\n",
       "      <td>32.103448</td>\n",
       "      <td>1297.310345</td>\n",
       "    </tr>\n",
       "    <tr>\n",
       "      <th>6.0</th>\n",
       "      <td>29.340426</td>\n",
       "      <td>857.620722</td>\n",
       "    </tr>\n",
       "    <tr>\n",
       "      <th>7.0</th>\n",
       "      <td>32.830508</td>\n",
       "      <td>960.488019</td>\n",
       "    </tr>\n",
       "    <tr>\n",
       "      <th>8.0</th>\n",
       "      <td>38.478873</td>\n",
       "      <td>1196.367404</td>\n",
       "    </tr>\n",
       "    <tr>\n",
       "      <th>9.0</th>\n",
       "      <td>37.895349</td>\n",
       "      <td>1050.918331</td>\n",
       "    </tr>\n",
       "    <tr>\n",
       "      <th>10.0</th>\n",
       "      <td>39.443396</td>\n",
       "      <td>1221.106289</td>\n",
       "    </tr>\n",
       "    <tr>\n",
       "      <th>11.0</th>\n",
       "      <td>38.606299</td>\n",
       "      <td>1232.669166</td>\n",
       "    </tr>\n",
       "    <tr>\n",
       "      <th>12.0</th>\n",
       "      <td>45.006623</td>\n",
       "      <td>1549.419956</td>\n",
       "    </tr>\n",
       "  </tbody>\n",
       "</table>\n",
       "</div>"
      ],
      "text/plain": [
       "                     mean          var\n",
       "plan     month                        \n",
       "surf     1.0    10.500000   220.500000\n",
       "         2.0    12.000000   386.000000\n",
       "         3.0    15.260870   346.565217\n",
       "         4.0    17.400000   501.591837\n",
       "         5.0    24.012987   847.197198\n",
       "         6.0    25.298969   914.920103\n",
       "         7.0    27.033058   923.915565\n",
       "         8.0    28.777778  1029.515528\n",
       "         9.0    30.762887  1003.829496\n",
       "         10.0   33.839662  1275.465708\n",
       "         11.0   32.385159  1065.344034\n",
       "         12.0   38.600629  1458.158612\n",
       "ultimate 1.0    15.500000   313.666667\n",
       "         2.0    21.571429   478.285714\n",
       "         3.0    20.250000   654.386364\n",
       "         4.0    22.047619   544.147619\n",
       "         5.0    32.103448  1297.310345\n",
       "         6.0    29.340426   857.620722\n",
       "         7.0    32.830508   960.488019\n",
       "         8.0    38.478873  1196.367404\n",
       "         9.0    37.895349  1050.918331\n",
       "         10.0   39.443396  1221.106289\n",
       "         11.0   38.606299  1232.669166\n",
       "         12.0   45.006623  1549.419956"
      ]
     },
     "execution_count": 56,
     "metadata": {},
     "output_type": "execute_result"
    }
   ],
   "source": [
    "sms_statistics = user_data.groupby(['plan', 'month'])['total_messages'].agg(['mean', 'var'])\n",
    "\n",
    "sms_statistics"
   ]
  },
  {
   "cell_type": "markdown",
   "metadata": {},
   "source": [
    "Berdasarkan data statistik pengiriman pesan pada paket Surf dan Ultimate per bulan, terlihat bahwa rata-rata pengiriman pesan pada paket Ultimate cenderung lebih tinggi dibandingkan paket Surf sepanjang tahun. Variansinya juga menunjukkan bahwa pesan pada paket Ultimate memiliki variasi yang relatif lebih besar dibandingkan dengan paket Surf. Hal ini menggambarkan bahwa pengguna paket Ultimate lebih aktif dalam pengiriman pesan, sementara pengguna paket Surf cenderung kurang aktif dalam pengiriman pesan. Meskipun demikian, pola pengiriman pesan dari kedua paket mengalami peningkatan sepanjang tahun."
   ]
  },
  {
   "cell_type": "markdown",
   "metadata": {},
   "source": [
    "### Pengguna terhadap Internet"
   ]
  },
  {
   "cell_type": "code",
   "execution_count": 57,
   "metadata": {
    "scrolled": true
   },
   "outputs": [
    {
     "data": {
      "image/png": "[encoded data removed]",
      "text/plain": [
       "<Figure size 720x432 with 1 Axes>"
      ]
     },
     "metadata": {
      "needs_background": "light"
     },
     "output_type": "display_data"
    }
   ],
   "source": [
    "# Bandingkan jumlah traffic internet yang dihabiskan oleh pengguna per paket\n",
    "surf_net_mean = user_data[user_data['plan'] == 'surf']['total_data_mb'].mean()\n",
    "ultimate_net_mean = user_data[user_data['plan'] == 'ultimate']['total_data_mb'].mean()\n",
    "\n",
    "plt.figure(figsize=(10, 6))\n",
    "plt.bar(['Surf', 'Ultimate'], [surf_net_mean, ultimate_net_mean], color=['blue', 'green'])\n",
    "plt.title('Rata-rata Penggunaan Internet per Bulan')\n",
    "plt.xlabel('Paket Prabayar')\n",
    "plt.ylabel('Rata-rata Penggunaan Internet (MB)')\n",
    "plt.show()"
   ]
  },
  {
   "cell_type": "code",
   "execution_count": 58,
   "metadata": {},
   "outputs": [
    {
     "data": {
      "image/png": "[encoded data removed]",
      "text/plain": [
       "<Figure size 864x432 with 1 Axes>"
      ]
     },
     "metadata": {
      "needs_background": "light"
     },
     "output_type": "display_data"
    }
   ],
   "source": [
    "internet_by_month = user_data.groupby(['month', 'plan'])['total_data_mb'].mean().reset_index()\n",
    "\n",
    "plt.figure(figsize=(12, 6))\n",
    "sns.barplot(x='month', y='total_data_mb', hue='plan', data=internet_by_month)\n",
    "plt.xlabel('Bulan')\n",
    "plt.ylabel('Rata-rata Penggunaan Internet (MB)')\n",
    "plt.title('Rata-rata Penggunaan Internet per Bulan')\n",
    "plt.xticks(rotation=45)\n",
    "plt.legend(title='Paket')\n",
    "plt.show()"
   ]
  },
  {
   "cell_type": "code",
   "execution_count": 59,
   "metadata": {},
   "outputs": [
    {
     "data": {
      "image/png": "[encoded data removed]",
      "text/plain": [
       "<Figure size 576x432 with 1 Axes>"
      ]
     },
     "metadata": {
      "needs_background": "light"
     },
     "output_type": "display_data"
    },
    {
     "name": "stdout",
     "output_type": "stream",
     "text": [
      "Kesimpulan:\n",
      "Rata-rata penggunaan internet untuk paket Surf: 16558.283490146216 MB\n",
      "Rata-rata penggunaan internet untuk paket Ultimate: 17214.699694444447 MB\n",
      "Median penggunaan internet untuk paket Surf: 16829.309999999998 MB\n",
      "Median penggunaan internet untuk paket Ultimate: 16858.34 MB\n",
      "Variansi penggunaan internet untuk paket Surf: 64216395.838027954\n",
      "Variansi penggunaan internet untuk paket Ultimate: 61652293.32385832\n"
     ]
    }
   ],
   "source": [
    "surf_internet_data = user_data[user_data['plan'] == 'surf']['total_data_mb']\n",
    "ultimate_internet_data = user_data[user_data['plan'] == 'ultimate']['total_data_mb']\n",
    "\n",
    "surf_mean = surf_internet_data.mean()\n",
    "ultimate_mean = ultimate_internet_data.mean()\n",
    "\n",
    "surf_median = surf_internet_data.median()\n",
    "ultimate_median = ultimate_internet_data.median()\n",
    "\n",
    "surf_variance = surf_internet_data.var()\n",
    "ultimate_variance = ultimate_internet_data.var()\n",
    "\n",
    "plt.figure(figsize=(8, 6))\n",
    "plt.hist(surf_internet_data, bins=30, alpha=0.5, label='Surf', color='blue')\n",
    "plt.hist(ultimate_internet_data, bins=30, alpha=0.5, label='Ultimate', color='green')\n",
    "plt.title('Distribusi Penggunaan Internet')\n",
    "plt.xlabel('Penggunaan Internet (MB)')\n",
    "plt.ylabel('Frekuensi')\n",
    "plt.legend()\n",
    "plt.show()\n",
    "\n",
    "print(\"Kesimpulan:\")\n",
    "print(f\"Rata-rata penggunaan internet untuk paket Surf: {surf_mean} MB\")\n",
    "print(f\"Rata-rata penggunaan internet untuk paket Ultimate: {ultimate_mean} MB\")\n",
    "print(f\"Median penggunaan internet untuk paket Surf: {surf_median} MB\")\n",
    "print(f\"Median penggunaan internet untuk paket Ultimate: {ultimate_median} MB\")\n",
    "print(f\"Variansi penggunaan internet untuk paket Surf: {surf_variance}\")\n",
    "print(f\"Variansi penggunaan internet untuk paket Ultimate: {ultimate_variance}\")\n"
   ]
  },
  {
   "cell_type": "markdown",
   "metadata": {},
   "source": [
    "Rata-rata penggunaan data internet untuk paket surf sekitar 16.558 MB, sedangkan untuk paket Ultimate sekitar 17.215 MB. Meskipun begitu, nilai median dari kedua paket hampir serupa, dengan angka sekitar 16.829 MB untuk paket surf dan 16.858 MB untuk paket ultimate. \n",
    "Nilai variansi dari paket ultimate memiliki nilai lebih rendah sekitar 61,652,293 dibanding nilai variansi paket surf dengan nilai 64,216,396. Dari nilai ini, dapat dilihat bahwa meskipun rata-rata penggunaan internet cenderung berbeda, perbedaan tersebut tidak terlalu signifikan. Nilai median yang hampir serupa juga menandakan bahwa kedua pengguna paket tersebut memiliki penggunaan internet yang mirip.\n",
    "Meskipun dengan nilai statistik yang mirip, jumlah frekuensi untuk paket surf memiliki jumlah frekuensi mendominasi untuk keseluruhan."
   ]
  },
  {
   "cell_type": "markdown",
   "metadata": {},
   "source": [
    "## Pendapatan"
   ]
  },
  {
   "cell_type": "code",
   "execution_count": 60,
   "metadata": {},
   "outputs": [
    {
     "name": "stdout",
     "output_type": "stream",
     "text": [
      "Statistik Pendapatan Paket Surf:\n",
      "count    1579.000000\n",
      "mean       57.152072\n",
      "std        53.682715\n",
      "min        20.000000\n",
      "25%        20.000000\n",
      "50%        36.552287\n",
      "75%        76.818970\n",
      "max       581.328509\n",
      "Name: revenue, dtype: float64\n",
      "\n",
      "Statistik Pendapatan Paket Ultimate:\n",
      "count    724.000000\n",
      "mean      72.104389\n",
      "std       10.740164\n",
      "min       70.000000\n",
      "25%       70.000000\n",
      "50%       70.000000\n",
      "75%       70.000000\n",
      "max      178.522764\n",
      "Name: revenue, dtype: float64\n",
      "\n",
      "Rata-rata Pendapatan Paket Surf: 57.152072411831064\n",
      "Rata-rata Pendapatan Paket Ultimate: 72.10438859633979\n",
      "Selisih Rata-rata Pendapatan:  14.952316184508724\n"
     ]
    }
   ],
   "source": [
    "surf_revenue = user_data[user_data['plan'] == 'surf']['revenue']\n",
    "ultimate_revenue = user_data[user_data['plan'] == 'ultimate']['revenue']\n",
    "\n",
    "print(\"Statistik Pendapatan Paket Surf:\")\n",
    "print(surf_revenue.describe())\n",
    "\n",
    "print(\"\\nStatistik Pendapatan Paket Ultimate:\")\n",
    "print(ultimate_revenue.describe())\n",
    "\n",
    "surf_mean_revenue = surf_revenue.mean()\n",
    "ultimate_mean_revenue = ultimate_revenue.mean()\n",
    "print(\"\\nRata-rata Pendapatan Paket Surf:\", surf_mean_revenue)\n",
    "print(\"Rata-rata Pendapatan Paket Ultimate:\", ultimate_mean_revenue)\n",
    "\n",
    "revenue_difference = ultimate_mean_revenue - surf_mean_revenue\n",
    "print(\"Selisih Rata-rata Pendapatan: \", revenue_difference)"
   ]
  },
  {
   "cell_type": "markdown",
   "metadata": {},
   "source": [
    "Terdapat perbedaan yang cukup mencolok dalam pendapatan antara dua paket prabayar, yaitu Surf dan Ultimate. Berdasarkan statistik pendapatan, paket Surf memiliki rata-rata pendapatan sebesar 57.29, sedangkan paket Ultimate memiliki rata-rata pendapatan sebesar 72.12. Selisih rata-rata pendapatan antara keduanya adalah sekitar 14.82. Ini menunjukkan bahwa pengguna paket Ultimate cenderung menghasilkan pendapatan lebih tinggi daripada pengguna paket Surf. Perbedaan ini dapat disebabkan oleh biaya bulanan yang lebih tinggi dalam paket Ultimate dan sejumlah besar pengguna paket Surf yang berlangganan dengan harga lebih rendah.\n",
    "Meskipun demikian, jumlah pengguna paket surf memiliki nilai 1573 sedangkan untuk paket ultimate hanya 720."
   ]
  },
  {
   "cell_type": "markdown",
   "metadata": {},
   "source": [
    "## Menguji Hipotesis Statistik"
   ]
  },
  {
   "cell_type": "markdown",
   "metadata": {},
   "source": [
    "### Pendapatan rata-rata dari pengguna paket prabayar Ultimate dan Surf berbeda."
   ]
  },
  {
   "cell_type": "markdown",
   "metadata": {},
   "source": [
    "Hipotesis Nol: \n",
    "- Pendapatan rata-rata pengguna paket Ultimate sama dengan pendapatan rata-rata pengguna paket Surf.\n",
    "\n",
    "Hipotesis Alternatif: \n",
    "- Pendapatan rata-rata pengguna paket Ultimate berbeda dari pendapatan rata-rata pengguna paket Surf.\n",
    "\n",
    "alpha = 0.05"
   ]
  },
  {
   "cell_type": "code",
   "execution_count": 61,
   "metadata": {},
   "outputs": [],
   "source": [
    "# Uji hipotesisnya\n",
    "alpha = 0.05\n",
    "\n",
    "surf_revenue = user_data[user_data['plan'] == 'surf']['revenue']\n",
    "ultimate_revenue = user_data[user_data['plan'] == 'ultimate']['revenue']\n"
   ]
  },
  {
   "cell_type": "code",
   "execution_count": 62,
   "metadata": {},
   "outputs": [
    {
     "name": "stdout",
     "output_type": "stream",
     "text": [
      "Tolak hipotesis nol. Terdapat cukup bukti statistik bahwa pendapatan rata-rata pengguna paket Ultimate berbeda dari pendapatan rata-rata pengguna paket Surf.\n"
     ]
    }
   ],
   "source": [
    "t_stat, p_value = st.ttest_ind(surf_revenue, ultimate_revenue, equal_var=False)\n",
    "\n",
    "if p_value < alpha:\n",
    "    print(\"Tolak hipotesis nol. Terdapat cukup bukti statistik bahwa pendapatan rata-rata pengguna paket Ultimate berbeda dari pendapatan rata-rata pengguna paket Surf.\")\n",
    "else:\n",
    "    print(\"Tidak cukup bukti statistik untuk menolak hipotesis nol. Pendapatan rata-rata pengguna paket Ultimate dan Surf tidak berbeda secara signifikan.\")"
   ]
  },
  {
   "cell_type": "markdown",
   "metadata": {},
   "source": [
    "### Pendapatan rata-rata dari pengguna di wilayah NY-NJ berbeda dengan pendapatan pengguna dari wilayah lain."
   ]
  },
  {
   "cell_type": "markdown",
   "metadata": {},
   "source": [
    "Hipotesis Nol: \n",
    "\n",
    "- Pendapatan rata-rata pengguna di wilayah NY-NJ sama dengan pendapatan rata-rata pengguna dari wilayah lain.\n",
    "\n",
    "Hipotesis Alternatif: \n",
    "\n",
    "- Pendapatan rata-rata pengguna di wilayah NY-NJ berbeda dari pendapatan rata-rata pengguna dari wilayah lain.\n",
    "\n",
    "alpha = 0.05"
   ]
  },
  {
   "cell_type": "code",
   "execution_count": 63,
   "metadata": {},
   "outputs": [],
   "source": [
    "# Uji hipotesisnya\n",
    "location_data = pd.merge(user_data, data_user[['user_id', 'state']], on='user_id')\n",
    "alpha = 0.05\n",
    "\n",
    "ny_nj_revenue = location_data[location_data['state'].isin(['NY', 'NJ'])]['revenue']\n",
    "other_revenue = location_data[~location_data['state'].isin(['NY', 'NJ'])]['revenue']"
   ]
  },
  {
   "cell_type": "code",
   "execution_count": 64,
   "metadata": {},
   "outputs": [
    {
     "name": "stdout",
     "output_type": "stream",
     "text": [
      "Tidak cukup bukti statistik untuk menolak hipotesis nol. Pendapatan rata-rata pengguna di wilayah NY-NJ dan wilayah lain tidak berbeda secara signifikan.\n"
     ]
    }
   ],
   "source": [
    "t_stat, p_value = st.ttest_ind(ny_nj_revenue, other_revenue, equal_var=False)\n",
    "\n",
    "if p_value < alpha:\n",
    "    print(\"Tolak hipotesis nol. Terdapat cukup bukti statistik bahwa pendapatan rata-rata pengguna di wilayah NY-NJ berbeda dari pendapatan rata-rata pengguna dari wilayah lain.\")\n",
    "else:\n",
    "    print(\"Tidak cukup bukti statistik untuk menolak hipotesis nol. Pendapatan rata-rata pengguna di wilayah NY-NJ dan wilayah lain tidak berbeda secara signifikan.\")"
   ]
  },
  {
   "cell_type": "markdown",
   "metadata": {},
   "source": [
    "## Kesimpulan Umum"
   ]
  },
  {
   "cell_type": "markdown",
   "metadata": {},
   "source": [
    "Pada analisa 2 paket ini, terdapat banyak proses yang dilakukan sebelum analisis di eksekusi. Dari data yang dimiliki, dimana dengan jumlah 5 data, data tersebut dapat dikatakan sudah bersih dan dapat langsung digunakan untuk analisa, tetapi pada projek ini, data tersebut di bersihkan lebih detail dan di naikan kualitas nilai datanya. Ini dilakukan dengan mengubah tipe data kolom tanggal dengan format `datetime` dan membuat kolom tambahan untuk memegang nilai tanggal, bulan, dan tahun yang didapatkan dari kolom tanggal yang sudah di ubah formatnya dan di split atau di pisahkan.\n",
    "\n",
    "Setelah data sudah dibersihkan, data tersebut di analisa, terlebih terhadap syarat dan ketentuan dari data paket. Secara garis besar, terdapat 2 paket dengan nama 'surf' dan 'ultimate', dimana paket tersebut memiliki keuntungan dan biaya masing-masing yang berbeda dari satu sama lain.\n",
    "\n",
    "Terdapat juga analisa untuk menghitung nilai penghasilan pengguna, dimana menggunakan beberapa nilai yang di proses dari ke-5 data. Setelah nilai revenue sudah di dapatkan, dataframe `user_data` dibentuk untuk memegang nilai dari tiap user, termasuk nilai penghasilan dimana disimpan pada kolom 'revenue'.\n",
    "\n",
    "Dari dataframe `user_data`, dilakukan analisa terhadap perilaku pelanggan dengan panggilan, pesan/sms, dan internet. Pada analisa tersebut, dapat dikatakan bahwa pelanggan dengan paket surf, memiliki rata-rata durasi panggilan lebih tinggi dibanding paket ultimate. Untuk pengiriman pesan, nilai rata-rata pengiriman untuk paket ultimate dapat dilihat lebih tinggi dibanding paket surf untuk sepanjang tahun. Ini dapat dikatakan bahwa pelanggan cenderung lebih banyak mengirim pesan menggunakan paket ultimate. Meskipun begitu, kedua paket mengalami peningkatan untuk sepanjang tahun. Untuk penggunaan data internet, kedua paket memiliki nilai median yang mirip, meskipun begitu, terdapat sedikit perbedaan untuk nilai rata-ratanya dimana paket ultimate lebih besar dengan nilai 17.215 dan 16.558 untuk paket surf.\n",
    "\n",
    "Untuk analisa pendapatan pelanggan, terdapat beberapa nilai yang signifikan antara kedua paket, rata-rata pendapatan dari pelanggan paket surf adalah 57.29 dan untuk pendapatan dari pelanggan paket ultimate adalah 72.11. Dimana pelanggan dari paket ultimate lebih tinggi sekitar 14.82. Meskipun begitu, jumlah pelanggan yang menggunakan paket surf memiliki jumlah 1573, dimana itu lebih dari 2x jumlah pelanggan paket ultimate, yang hanya berjumlah 720.\n",
    "\n",
    "Terdapat juga pengujian hipotesis terhadap nilai rata-rata pendapatan terhadap ke dua paket dan pendapatan pelanggan dari wilayah NY-NJ. Kedua hipotesis, di eksekusi menggunakan alpha = 0.05, dan kedua hipotesis nol nya adalah bahwa nilai rata-rata pendapatan terhadap ke dua paket adalah sama , dan rata-rata pendapatan di wilayah NY-NJ dan wilayah lain sama. Pada pengujian ini, dilakukan T-test dan hasilnya adalah tolak hipotesis nol untuk pengujian terhadap pendapatan rata-rata kedua paket sama, dikarenakan terdapat cukup bukti statistik pada analisa. Untuk pengujian hipotesis terhadap pendapatan rata-rata di wilayah NY-NJ sama dengan wilayah lain, dapat dikatakan tidak dapat menolak hipotesis nol, dikarekan tidak cukup bukti statistik yang didapatkan dan dapat dikatakan bahwa pendapatan rata-rata di wilayah NY-NJ dan yang lain tidak berbeda secara signifikan."
   ]
  },
  {
   "cell_type": "markdown",
   "metadata": {},
   "source": [
    " "
   ]
  }
 ],
 "metadata": {
  "ExecuteTimeLog": [
   {
    "duration": 828,
    "start_time": "2021-11-16T09:21:11.304Z"
   },
   {
    "duration": 893,
    "start_time": "2021-11-16T09:21:17.728Z"
   },
   {
    "duration": 1150,
    "start_time": "2021-11-16T09:21:29.568Z"
   },
   {
    "duration": 3,
    "start_time": "2021-11-16T09:24:14.495Z"
   },
   {
    "duration": 120,
    "start_time": "2021-11-16T09:24:46.630Z"
   },
   {
    "duration": 3,
    "start_time": "2021-11-16T09:28:27.882Z"
   },
   {
    "duration": 4,
    "start_time": "2021-11-16T09:29:54.281Z"
   },
   {
    "duration": 3,
    "start_time": "2021-11-16T09:30:45.936Z"
   },
   {
    "duration": 4,
    "start_time": "2021-11-16T09:31:06.300Z"
   },
   {
    "duration": 113,
    "start_time": "2021-11-16T09:31:37.208Z"
   },
   {
    "duration": 143,
    "start_time": "2021-11-16T09:31:48.656Z"
   },
   {
    "duration": 98,
    "start_time": "2021-11-16T09:31:55.678Z"
   },
   {
    "duration": 3,
    "start_time": "2021-11-16T09:32:08.535Z"
   },
   {
    "duration": 111,
    "start_time": "2021-11-16T09:32:10.120Z"
   },
   {
    "duration": 3,
    "start_time": "2021-11-16T09:32:15.732Z"
   },
   {
    "duration": 4,
    "start_time": "2021-11-16T09:32:29.423Z"
   },
   {
    "duration": 3,
    "start_time": "2021-11-16T10:03:03.074Z"
   },
   {
    "duration": 3,
    "start_time": "2021-11-16T10:10:01.288Z"
   },
   {
    "duration": 3,
    "start_time": "2021-11-16T10:10:46.923Z"
   },
   {
    "duration": 121,
    "start_time": "2021-11-16T10:37:46.494Z"
   },
   {
    "duration": 125,
    "start_time": "2021-11-16T10:38:20.632Z"
   },
   {
    "duration": 112,
    "start_time": "2021-11-16T10:46:53.001Z"
   },
   {
    "duration": 110,
    "start_time": "2021-11-16T10:48:25.775Z"
   },
   {
    "duration": 3,
    "start_time": "2021-11-16T10:50:18.720Z"
   },
   {
    "duration": 4,
    "start_time": "2021-11-16T10:50:37.649Z"
   },
   {
    "duration": 2,
    "start_time": "2021-11-16T10:50:51.884Z"
   },
   {
    "duration": 3,
    "start_time": "2021-11-16T10:51:56.237Z"
   },
   {
    "duration": 101,
    "start_time": "2021-11-16T10:53:13.791Z"
   },
   {
    "duration": 3,
    "start_time": "2021-11-16T10:55:59.186Z"
   },
   {
    "duration": 3,
    "start_time": "2021-11-16T10:56:10.751Z"
   },
   {
    "duration": 3,
    "start_time": "2021-11-16T10:56:49.038Z"
   },
   {
    "duration": 3,
    "start_time": "2021-11-16T10:56:49.174Z"
   },
   {
    "duration": 4,
    "start_time": "2021-11-16T10:56:49.414Z"
   },
   {
    "duration": 3,
    "start_time": "2021-11-16T10:56:49.680Z"
   },
   {
    "duration": 3,
    "start_time": "2021-11-16T10:56:50.370Z"
   },
   {
    "duration": 114,
    "start_time": "2021-11-16T10:59:34.518Z"
   },
   {
    "duration": 3,
    "start_time": "2021-11-16T11:01:41.201Z"
   },
   {
    "duration": 116,
    "start_time": "2021-11-16T11:01:48.754Z"
   },
   {
    "duration": 3,
    "start_time": "2021-11-16T11:02:16.685Z"
   },
   {
    "duration": 3,
    "start_time": "2021-11-16T11:02:19.479Z"
   },
   {
    "duration": 3,
    "start_time": "2021-11-16T11:02:47.067Z"
   },
   {
    "duration": 3,
    "start_time": "2021-11-16T11:02:49.353Z"
   },
   {
    "duration": 3,
    "start_time": "2021-11-16T11:03:07.835Z"
   },
   {
    "duration": 3,
    "start_time": "2021-11-16T11:03:07.953Z"
   },
   {
    "duration": 112,
    "start_time": "2021-11-16T11:07:52.072Z"
   },
   {
    "duration": 187,
    "start_time": "2021-11-16T11:09:23.468Z"
   },
   {
    "duration": 4,
    "start_time": "2021-11-16T11:10:01.455Z"
   },
   {
    "duration": 3,
    "start_time": "2021-11-16T11:10:05.069Z"
   },
   {
    "duration": 4,
    "start_time": "2021-11-16T11:10:13.376Z"
   },
   {
    "duration": 3,
    "start_time": "2021-11-16T11:10:14.434Z"
   },
   {
    "duration": 3,
    "start_time": "2021-11-16T11:10:22.853Z"
   },
   {
    "duration": 4,
    "start_time": "2021-11-16T11:27:29.279Z"
   },
   {
    "duration": 4,
    "start_time": "2021-11-16T11:29:08.919Z"
   },
   {
    "duration": 118,
    "start_time": "2021-11-16T11:29:46.703Z"
   },
   {
    "duration": 437,
    "start_time": "2021-11-16T11:36:02.181Z"
   },
   {
    "duration": 157,
    "start_time": "2021-11-16T11:36:14.388Z"
   },
   {
    "duration": 207,
    "start_time": "2021-11-16T11:47:15.898Z"
   },
   {
    "duration": 3,
    "start_time": "2021-11-16T11:53:52.092Z"
   },
   {
    "duration": 3,
    "start_time": "2021-11-16T11:53:52.236Z"
   },
   {
    "duration": 3,
    "start_time": "2021-11-16T11:59:12.005Z"
   },
   {
    "duration": 112,
    "start_time": "2021-11-16T12:00:33.446Z"
   },
   {
    "duration": 3,
    "start_time": "2021-11-16T12:02:14.453Z"
   },
   {
    "duration": 3,
    "start_time": "2021-11-16T12:02:39.512Z"
   },
   {
    "duration": 106,
    "start_time": "2021-11-16T12:03:03.460Z"
   },
   {
    "duration": 3,
    "start_time": "2021-11-17T20:37:21.139Z"
   },
   {
    "duration": 3,
    "start_time": "2021-11-17T20:37:22.229Z"
   },
   {
    "duration": 3,
    "start_time": "2021-11-17T20:38:38.806Z"
   },
   {
    "duration": 3,
    "start_time": "2021-11-17T20:38:41.958Z"
   },
   {
    "duration": 3,
    "start_time": "2021-11-17T20:43:46.551Z"
   },
   {
    "duration": 4,
    "start_time": "2021-11-17T20:58:21.835Z"
   },
   {
    "duration": 3,
    "start_time": "2021-11-17T20:59:21.872Z"
   },
   {
    "duration": 4,
    "start_time": "2021-11-17T20:59:45.352Z"
   },
   {
    "duration": 4,
    "start_time": "2021-11-17T20:59:49.646Z"
   },
   {
    "duration": 159,
    "start_time": "2021-11-17T21:02:26.949Z"
   },
   {
    "duration": 3,
    "start_time": "2021-11-17T21:03:53.461Z"
   },
   {
    "duration": 3,
    "start_time": "2021-11-17T21:03:53.694Z"
   },
   {
    "duration": 3,
    "start_time": "2021-11-17T21:05:28.145Z"
   },
   {
    "duration": 116,
    "start_time": "2021-11-17T21:05:57.787Z"
   },
   {
    "duration": 3,
    "start_time": "2021-11-17T21:06:37.993Z"
   },
   {
    "duration": 3,
    "start_time": "2021-11-17T21:06:38.261Z"
   },
   {
    "duration": 3,
    "start_time": "2021-11-17T21:11:54.358Z"
   },
   {
    "duration": 3,
    "start_time": "2021-11-17T21:12:43.846Z"
   },
   {
    "duration": 4,
    "start_time": "2021-11-17T21:13:08.773Z"
   },
   {
    "duration": 3,
    "start_time": "2021-11-17T21:14:44.441Z"
   },
   {
    "duration": 3,
    "start_time": "2021-11-17T21:15:42.059Z"
   },
   {
    "duration": 4,
    "start_time": "2021-11-17T21:15:51.995Z"
   },
   {
    "duration": 3,
    "start_time": "2021-11-17T21:15:53.923Z"
   },
   {
    "duration": 3,
    "start_time": "2021-11-17T21:15:55.282Z"
   },
   {
    "duration": 3,
    "start_time": "2021-11-17T21:16:28.492Z"
   },
   {
    "duration": 3,
    "start_time": "2021-11-17T21:16:32.603Z"
   },
   {
    "duration": 3,
    "start_time": "2021-11-17T21:17:06.941Z"
   },
   {
    "duration": 98,
    "start_time": "2021-11-17T21:18:05.733Z"
   },
   {
    "duration": 4,
    "start_time": "2021-11-17T21:21:35.255Z"
   },
   {
    "duration": 3,
    "start_time": "2021-11-17T21:21:37.804Z"
   },
   {
    "duration": 4,
    "start_time": "2021-11-17T21:23:06.071Z"
   },
   {
    "duration": 3,
    "start_time": "2021-11-17T21:23:24.799Z"
   },
   {
    "duration": 3,
    "start_time": "2021-11-17T21:23:32.591Z"
   },
   {
    "duration": 98,
    "start_time": "2021-11-17T21:28:31.559Z"
   },
   {
    "duration": 3,
    "start_time": "2021-11-17T21:28:45.448Z"
   },
   {
    "duration": 3,
    "start_time": "2021-11-17T21:29:17.303Z"
   },
   {
    "duration": 3,
    "start_time": "2021-11-17T21:29:29.617Z"
   },
   {
    "duration": 3,
    "start_time": "2021-11-17T21:29:32.681Z"
   },
   {
    "duration": 3,
    "start_time": "2021-11-17T21:36:11.474Z"
   },
   {
    "duration": 3,
    "start_time": "2021-11-17T21:36:14.791Z"
   },
   {
    "duration": 3,
    "start_time": "2021-11-17T21:36:53.943Z"
   },
   {
    "duration": 3,
    "start_time": "2021-11-17T21:36:56.165Z"
   },
   {
    "duration": 4,
    "start_time": "2021-11-17T21:37:16.590Z"
   },
   {
    "duration": 3,
    "start_time": "2021-11-17T21:37:22.702Z"
   },
   {
    "duration": 4,
    "start_time": "2021-11-17T21:38:03.479Z"
   },
   {
    "duration": 3,
    "start_time": "2021-11-17T21:38:08.601Z"
   },
   {
    "duration": 3,
    "start_time": "2021-11-17T21:38:12.928Z"
   },
   {
    "duration": 3,
    "start_time": "2021-11-17T21:38:48.896Z"
   },
   {
    "duration": 2,
    "start_time": "2021-11-17T21:38:49.171Z"
   },
   {
    "duration": 4,
    "start_time": "2021-11-17T21:39:57.889Z"
   },
   {
    "duration": 3,
    "start_time": "2021-11-17T21:39:58.057Z"
   },
   {
    "duration": 3,
    "start_time": "2021-11-17T21:41:20.108Z"
   },
   {
    "duration": 3,
    "start_time": "2021-11-17T21:41:20.629Z"
   },
   {
    "duration": 3,
    "start_time": "2021-11-17T21:42:49.136Z"
   },
   {
    "duration": 3,
    "start_time": "2021-11-17T21:43:15.137Z"
   },
   {
    "duration": 4,
    "start_time": "2021-11-17T21:43:16.766Z"
   },
   {
    "duration": 4,
    "start_time": "2021-11-17T21:43:31.711Z"
   },
   {
    "duration": 3,
    "start_time": "2021-11-17T21:43:36.312Z"
   },
   {
    "duration": 4,
    "start_time": "2021-11-17T21:45:08.825Z"
   },
   {
    "duration": 4,
    "start_time": "2021-11-17T21:45:10.119Z"
   },
   {
    "duration": 4,
    "start_time": "2021-11-17T21:45:13.748Z"
   },
   {
    "duration": 3,
    "start_time": "2021-11-17T21:45:22.219Z"
   },
   {
    "duration": 3,
    "start_time": "2021-11-17T21:45:33.412Z"
   },
   {
    "duration": 2,
    "start_time": "2021-11-17T21:46:01.885Z"
   },
   {
    "duration": 3,
    "start_time": "2021-11-17T21:46:03.628Z"
   },
   {
    "duration": 107,
    "start_time": "2021-11-17T21:47:32.512Z"
   },
   {
    "duration": 103,
    "start_time": "2021-11-17T21:50:36.243Z"
   },
   {
    "duration": 3,
    "start_time": "2021-11-18T06:28:31.440Z"
   },
   {
    "duration": 3,
    "start_time": "2021-11-18T06:29:00.168Z"
   },
   {
    "duration": 3,
    "start_time": "2021-11-18T06:31:27.008Z"
   },
   {
    "duration": 2,
    "start_time": "2021-11-18T06:35:34.288Z"
   },
   {
    "duration": 2,
    "start_time": "2021-11-18T06:38:04.527Z"
   }
  ],
  "kernelspec": {
   "display_name": "Python 3 (ipykernel)",
   "language": "python",
   "name": "python3"
  },
  "language_info": {
   "codemirror_mode": {
    "name": "ipython",
    "version": 3
   },
   "file_extension": ".py",
   "mimetype": "text/x-python",
   "name": "python",
   "nbconvert_exporter": "python",
   "pygments_lexer": "ipython3",
   "version": "3.9.5"
  },
  "toc": {
   "base_numbering": 1,
   "nav_menu": {},
   "number_sections": true,
   "sideBar": true,
   "skip_h1_title": false,
   "title_cell": "Table of Contents",
   "title_sidebar": "Contents",
   "toc_cell": false,
   "toc_position": {
    "height": "calc(100% - 180px)",
    "left": "10px",
    "top": "150px",
    "width": "388px"
   },
   "toc_section_display": true,
   "toc_window_display": true
  }
 },
 "nbformat": 4,
 "nbformat_minor": 2
}
